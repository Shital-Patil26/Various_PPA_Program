{
 "cells": [
  {
   "cell_type": "code",
   "execution_count": 17,
   "id": "42a7dbde",
   "metadata": {},
   "outputs": [
    {
     "name": "stdout",
     "output_type": "stream",
     "text": [
      "Enter the text\n",
      "jjk\n",
      "This text isnot spam\n"
     ]
    }
   ],
   "source": [
    "text=input(\"Enter the text\\n\")\n",
    "spam =False\n",
    "\n",
    "if(\"make a lot of money\" in text):\n",
    "    spam = True\n",
    "elif(\"Buy Now\" in text):\n",
    "        spam =True\n",
    "elif(\"Subscribe this\" in text):\n",
    "        spam =True\n",
    "elif(\"click this\" in text):\n",
    "        spam = True\n",
    "else:\n",
    "        spam = False\n",
    "\n",
    "if(spam):\n",
    "        print(\"This text is spam\")\n",
    "else:\n",
    "            print(\"This text isnot spam\")\n",
    "            "
   ]
  },
  {
   "cell_type": "code",
   "execution_count": 21,
   "id": "9fa92a38",
   "metadata": {},
   "outputs": [
    {
     "name": "stdout",
     "output_type": "stream",
     "text": [
      "Enter the String \n",
      "shital\n",
      "The string contain less than 10 character\n",
      "\n"
     ]
    }
   ],
   "source": [
    "text=input(\"Enter the String \\n\")\n",
    "n=len(text)\n",
    "\n",
    "if(n<=10):\n",
    "    print(\"The string contain less than 10 character\\n\")\n",
    "else:\n",
    "    print(\"The string has not less than 10 character\\n\")\n",
    "    "
   ]
  },
  {
   "cell_type": "code",
   "execution_count": null,
   "id": "a3f29528",
   "metadata": {},
   "outputs": [],
   "source": [
    "\n",
    "    "
   ]
  },
  {
   "cell_type": "code",
   "execution_count": null,
   "id": "7ed2192d",
   "metadata": {},
   "outputs": [],
   "source": []
  }
 ],
 "metadata": {
  "kernelspec": {
   "display_name": "Python 3 (ipykernel)",
   "language": "python",
   "name": "python3"
  },
  "language_info": {
   "codemirror_mode": {
    "name": "ipython",
    "version": 3
   },
   "file_extension": ".py",
   "mimetype": "text/x-python",
   "name": "python",
   "nbconvert_exporter": "python",
   "pygments_lexer": "ipython3",
   "version": "3.9.12"
  }
 },
 "nbformat": 4,
 "nbformat_minor": 5
}
