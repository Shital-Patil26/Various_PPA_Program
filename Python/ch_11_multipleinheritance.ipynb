{
 "cells": [
  {
   "cell_type": "markdown",
   "id": "9a99f6c4",
   "metadata": {},
   "source": [
    "##### class Employee:\n",
    "    company = \"visa\"\n",
    "    eCode = 120\n",
    "    \n",
    "class Freelancer:\n",
    "    company = \"Fiverr\"\n",
    "    level = 0\n",
    "    \n",
    "    def upgradeLevel(self):\n",
    "        self.level = self.level + 1\n",
    "    \n",
    "class Programmer(Employee, Freelancer):\n",
    "    name = \"Shital\"\n",
    "    \n",
    "p = Programmer()\n",
    "p.upgradeLevel()\n",
    "print(p.company) \n",
    "'''it is ambiguity but it priorities first argument \n",
    "i.e. employee if I write class Programmer(Freelancer,Employee) o/p Fibrr'''"
   ]
  },
  {
   "cell_type": "code",
   "execution_count": null,
   "id": "54c385ec",
   "metadata": {},
   "outputs": [],
   "source": []
  }
 ],
 "metadata": {
  "kernelspec": {
   "display_name": "Python 3 (ipykernel)",
   "language": "python",
   "name": "python3"
  },
  "language_info": {
   "codemirror_mode": {
    "name": "ipython",
    "version": 3
   },
   "file_extension": ".py",
   "mimetype": "text/x-python",
   "name": "python",
   "nbconvert_exporter": "python",
   "pygments_lexer": "ipython3",
   "version": "3.9.12"
  }
 },
 "nbformat": 4,
 "nbformat_minor": 5
}
