{
 "cells": [
  {
   "cell_type": "code",
   "execution_count": 4,
   "id": "066e6628",
   "metadata": {},
   "outputs": [
    {
     "name": "stdout",
     "output_type": "stream",
     "text": [
      "addition of a and b is 33\n",
      "the remainder is divided by 2 3\n"
     ]
    }
   ],
   "source": [
    "a=28\n",
    "b=5\n",
    "print(\"addition of a and b is\",a+b )\n",
    "print(\"the remainder is divided by 2 is\",a%b)"
   ]
  },
  {
   "cell_type": "code",
   "execution_count": null,
   "id": "e6d213ac",
   "metadata": {},
   "outputs": [],
   "source": []
  }
 ],
 "metadata": {
  "kernelspec": {
   "display_name": "Python 3 (ipykernel)",
   "language": "python",
   "name": "python3"
  },
  "language_info": {
   "codemirror_mode": {
    "name": "ipython",
    "version": 3
   },
   "file_extension": ".py",
   "mimetype": "text/x-python",
   "name": "python",
   "nbconvert_exporter": "python",
   "pygments_lexer": "ipython3",
   "version": "3.9.12"
  }
 },
 "nbformat": 4,
 "nbformat_minor": 5
}
