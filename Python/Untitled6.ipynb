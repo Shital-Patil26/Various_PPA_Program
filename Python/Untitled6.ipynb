{
 "cells": [
  {
   "cell_type": "code",
   "execution_count": 1,
   "id": "7bb6634f",
   "metadata": {},
   "outputs": [
    {
     "name": "stdout",
     "output_type": "stream",
     "text": [
      "['.conda', '.condarc', '.continuum', '.ipynb_checkpoints', '.ipython', '.jupyter', '3D Objects', 'anaconda3', 'AppData', 'Application Data', 'Contacts', 'Cookies', 'Desktop', 'Documents', 'Downloads', 'Favorites', 'IntelGraphicsProfiles', 'Links', 'Local Settings', 'MicrosoftEdgeBackups', 'Music', 'My Documents', 'NetHood', 'NTUSER.DAT', 'ntuser.dat.LOG1', 'ntuser.dat.LOG2', 'NTUSER.DAT{af27b466-fa0f-11eb-ac18-cccf993778e9}.TxR.0.regtrans-ms', 'NTUSER.DAT{af27b466-fa0f-11eb-ac18-cccf993778e9}.TxR.1.regtrans-ms', 'NTUSER.DAT{af27b466-fa0f-11eb-ac18-cccf993778e9}.TxR.2.regtrans-ms', 'NTUSER.DAT{af27b466-fa0f-11eb-ac18-cccf993778e9}.TxR.blf', 'NTUSER.DAT{af27b467-fa0f-11eb-ac18-cccf993778e9}.TM.blf', 'NTUSER.DAT{af27b467-fa0f-11eb-ac18-cccf993778e9}.TMContainer00000000000000000001.regtrans-ms', 'NTUSER.DAT{af27b467-fa0f-11eb-ac18-cccf993778e9}.TMContainer00000000000000000002.regtrans-ms', 'ntuser.ini', 'OneDrive', 'Pictures', 'pr1.ipynb', 'PrintHood', 'python_overview (1).ipynb', 'Recent', 'Saved Games', 'Searches', 'SendTo', 'Start Menu', 'Templates', 'Untitled.ipynb', 'untitled.txt', 'Untitled1.ipynb', 'Untitled2.ipynb', 'Untitled3.ipynb', 'Untitled4.ipynb', 'Untitled5.ipynb', 'Untitled6.ipynb', 'Videos']\n"
     ]
    }
   ],
   "source": [
    "import os \n",
    "print(os.listdir())\n"
   ]
  },
  {
   "cell_type": "code",
   "execution_count": null,
   "id": "400f0b7c",
   "metadata": {},
   "outputs": [],
   "source": []
  }
 ],
 "metadata": {
  "kernelspec": {
   "display_name": "Python 3 (ipykernel)",
   "language": "python",
   "name": "python3"
  },
  "language_info": {
   "codemirror_mode": {
    "name": "ipython",
    "version": 3
   },
   "file_extension": ".py",
   "mimetype": "text/x-python",
   "name": "python",
   "nbconvert_exporter": "python",
   "pygments_lexer": "ipython3",
   "version": "3.9.12"
  }
 },
 "nbformat": 4,
 "nbformat_minor": 5
}
