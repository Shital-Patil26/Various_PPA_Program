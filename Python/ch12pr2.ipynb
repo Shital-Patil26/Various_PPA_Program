{
 "cells": [
  {
   "cell_type": "code",
   "execution_count": 8,
   "id": "428c7a23",
   "metadata": {},
   "outputs": [
    {
     "name": "stdout",
     "output_type": "stream",
     "text": [
      "35\n"
     ]
    }
   ],
   "source": [
    "def increment(num):\n",
    "    try:\n",
    "        return int(num) + 1\n",
    "    except:\n",
    "        raise ValueError(\"This is not good -aaa\")\n",
    "        \n",
    "a = increment('34')\n",
    "print(a)"
   ]
  },
  {
   "cell_type": "code",
   "execution_count": 11,
   "id": "ebb4ab05",
   "metadata": {},
   "outputs": [
    {
     "name": "stdout",
     "output_type": "stream",
     "text": [
      "Enter a number d\n",
      "invalid literal for int() with base 10: 'd'\n"
     ]
    }
   ],
   "source": [
    "try:\n",
    "    i = int(input(\"Enter a number \"))\n",
    "    c = 1/i\n",
    "except Exception as e:\n",
    "        print(e)\n",
    "else:\n",
    "        print(\"we were successful \")"
   ]
  },
  {
   "cell_type": "code",
   "execution_count": 14,
   "id": "baeca7e3",
   "metadata": {},
   "outputs": [
    {
     "name": "stdout",
     "output_type": "stream",
     "text": [
      "Enter a number 4\n",
      "we were successful \n"
     ]
    }
   ],
   "source": [
    "try:\n",
    "    i = int(input(\"Enter a number \"))\n",
    "    c = 1/i\n",
    "except Exception as e:\n",
    "        print(e)\n",
    "        exit()\n",
    "finally:\n",
    "        print(\"we were successful \")"
   ]
  },
  {
   "cell_type": "code",
   "execution_count": null,
   "id": "fee3eb47",
   "metadata": {},
   "outputs": [],
   "source": []
  }
 ],
 "metadata": {
  "kernelspec": {
   "display_name": "Python 3 (ipykernel)",
   "language": "python",
   "name": "python3"
  },
  "language_info": {
   "codemirror_mode": {
    "name": "ipython",
    "version": 3
   },
   "file_extension": ".py",
   "mimetype": "text/x-python",
   "name": "python",
   "nbconvert_exporter": "python",
   "pygments_lexer": "ipython3",
   "version": "3.9.12"
  }
 },
 "nbformat": 4,
 "nbformat_minor": 5
}
