{
 "cells": [
  {
   "cell_type": "code",
   "execution_count": 7,
   "id": "30c06a6d",
   "metadata": {},
   "outputs": [
    {
     "name": "stdout",
     "output_type": "stream",
     "text": [
      "stud 1: 77.25 \n",
      "stud 2: 66.5\n"
     ]
    }
   ],
   "source": [
    "def percent(marks):\n",
    "    return ((marks[0]+marks[1]+marks[2]+marks[3])/400)*100\n",
    "\n",
    "marks2=[55,67,89,98]\n",
    "percentage = percent(marks2)\n",
    "\n",
    "marks3=[65,67,89,45]\n",
    "percentage2=percent(marks3)\n",
    "\n",
    "print(\"stud 1:\",percentage,\"\\nstud 2:\",percentage2)\n"
   ]
  },
  {
   "cell_type": "code",
   "execution_count": 16,
   "id": "ea1af7db",
   "metadata": {},
   "outputs": [
    {
     "name": "stdout",
     "output_type": "stream",
     "text": [
      "Enter name shital\n",
      "Good Day shital\n"
     ]
    }
   ],
   "source": [
    "def greet(name):\n",
    "    print(\"Good Day \"+ name)\n",
    "    \n",
    "nm=input(\"Enter name \")\n",
    "greet(nm)"
   ]
  },
  {
   "cell_type": "code",
   "execution_count": 22,
   "id": "86dccb15",
   "metadata": {},
   "outputs": [
    {
     "name": "stdout",
     "output_type": "stream",
     "text": [
      "58\n"
     ]
    }
   ],
   "source": [
    "def mySum(n1,n2):\n",
    "    return n1+n2\n",
    "s=mySum(16,42)\n",
    "print(s)\n"
   ]
  },
  {
   "cell_type": "code",
   "execution_count": 23,
   "id": "0ca90369",
   "metadata": {},
   "outputs": [
    {
     "name": "stdout",
     "output_type": "stream",
     "text": [
      "Good Day Shital\n",
      "Good Day Stranger\n"
     ]
    }
   ],
   "source": [
    "def greet(name=\"Stranger\"):\n",
    "    print(\"Good Day \"+ name)\n",
    "    \n",
    "\n",
    "greet(\"Shital\")\n",
    "greet()"
   ]
  },
  {
   "cell_type": "code",
   "execution_count": null,
   "id": "2c064ab8",
   "metadata": {},
   "outputs": [],
   "source": [
    "n=4\n",
    "pro=1\n",
    "\n"
   ]
  }
 ],
 "metadata": {
  "kernelspec": {
   "display_name": "Python 3 (ipykernel)",
   "language": "python",
   "name": "python3"
  },
  "language_info": {
   "codemirror_mode": {
    "name": "ipython",
    "version": 3
   },
   "file_extension": ".py",
   "mimetype": "text/x-python",
   "name": "python",
   "nbconvert_exporter": "python",
   "pygments_lexer": "ipython3",
   "version": "3.9.12"
  }
 },
 "nbformat": 4,
 "nbformat_minor": 5
}
