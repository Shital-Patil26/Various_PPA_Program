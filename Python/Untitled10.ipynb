{
 "cells": [
  {
   "cell_type": "code",
   "execution_count": 2,
   "id": "e268c535",
   "metadata": {},
   "outputs": [
    {
     "name": "stdout",
     "output_type": "stream",
     "text": [
      "enter your name shital\n",
      "\n",
      " Good Afternoon shital\n"
     ]
    }
   ],
   "source": [
    "name=input(\"enter your name \")\n",
    "print(\"\\n Good Afternoon \"+name)"
   ]
  },
  {
   "cell_type": "code",
   "execution_count": null,
   "id": "22621888",
   "metadata": {},
   "outputs": [],
   "source": []
  },
  {
   "cell_type": "code",
   "execution_count": 6,
   "id": "673863d7",
   "metadata": {},
   "outputs": [
    {
     "name": "stdout",
     "output_type": "stream",
     "text": [
      "\n",
      "Enter your name shital\n",
      "\n",
      "Enter date 20 aug 2020\n",
      " Dear shital\n",
      "You are selected!\n",
      "\n",
      "date 20 aug 2020 \n",
      "\n"
     ]
    }
   ],
   "source": [
    "letter=''' Dear <|Name|>\n",
    "You are selected!\n",
    "\n",
    "date <|date|> \n",
    "'''\n",
    "name=input(\"\\nEnter your name \")\n",
    "date=input(\"\\nEnter date \")\n",
    "letter=letter.replace(\"<|Name|>\",name)\n",
    "letter=letter.replace(\"<|date|>\",date)\n",
    "print(letter)"
   ]
  },
  {
   "cell_type": "code",
   "execution_count": 8,
   "id": "cf3d9cdd",
   "metadata": {},
   "outputs": [
    {
     "name": "stdout",
     "output_type": "stream",
     "text": [
      "7\n"
     ]
    }
   ],
   "source": [
    "str=\"this is   string with double space    charcter\"\n",
    "dsp=str.find(\"  \")\n",
    "print(dsp)"
   ]
  },
  {
   "cell_type": "code",
   "execution_count": 11,
   "id": "8e85d26c",
   "metadata": {},
   "outputs": [
    {
     "name": "stdout",
     "output_type": "stream",
     "text": [
      "this is string with double space charcter\n"
     ]
    }
   ],
   "source": [
    "str=\"this is  string with double space  charcter\"\n",
    "str=str.replace(\"  \",\" \")\n",
    "print(str)"
   ]
  },
  {
   "cell_type": "code",
   "execution_count": null,
   "id": "098766b6",
   "metadata": {},
   "outputs": [],
   "source": []
  }
 ],
 "metadata": {
  "kernelspec": {
   "display_name": "Python 3 (ipykernel)",
   "language": "python",
   "name": "python3"
  },
  "language_info": {
   "codemirror_mode": {
    "name": "ipython",
    "version": 3
   },
   "file_extension": ".py",
   "mimetype": "text/x-python",
   "name": "python",
   "nbconvert_exporter": "python",
   "pygments_lexer": "ipython3",
   "version": "3.9.12"
  }
 },
 "nbformat": 4,
 "nbformat_minor": 5
}
