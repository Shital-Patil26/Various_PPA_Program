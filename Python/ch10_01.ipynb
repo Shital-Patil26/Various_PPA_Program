{
 "cells": [
  {
   "cell_type": "code",
   "execution_count": null,
   "id": "d747b9ea",
   "metadata": {},
   "outputs": [],
   "source": [
    "class Remote:\n",
    "    pass\n",
    "class Player:\n",
    "    def moveRight(self):\n",
    "        pass\n",
    "    def moveLeft(self):\n",
    "        pass\n",
    "    def moveTop(self):\n",
    "        pass\n",
    "    \n",
    "remote1 = Remote()\n",
    "player1 = Player()\n",
    "\n",
    "if(remote1.isLeftPressed()):\n",
    "    player1.moveLeft()"
   ]
  },
  {
   "cell_type": "code",
   "execution_count": 7,
   "id": "35cc654e",
   "metadata": {},
   "outputs": [
    {
     "name": "stdout",
     "output_type": "stream",
     "text": [
      "Google\n",
      "Google\n",
      "Youtube\n",
      "Youtube\n",
      "45\n",
      "100\n"
     ]
    }
   ],
   "source": [
    "class Employee:   \n",
    "    company = \"Google\" # company and salary class objetct\n",
    "    salary = 100\n",
    "    \n",
    "harry = Employee()\n",
    "rajni = Employee()\n",
    "#creating instance object salary for object\n",
    "#harry.salary = 300\n",
    "#rajni.salary = 400\n",
    "print(harry.company)\n",
    "print(rajni.company)\n",
    "Employee.company = \"Youtube\"\n",
    "print(harry.company)\n",
    "print(rajni.company) \n",
    "harry.salary = 45 #creating instance object\n",
    "print(harry.salary)\n",
    "print(rajni.salary) "
   ]
  },
  {
   "cell_type": "code",
   "execution_count": null,
   "id": "9e825b4e",
   "metadata": {},
   "outputs": [],
   "source": []
  }
 ],
 "metadata": {
  "kernelspec": {
   "display_name": "Python 3 (ipykernel)",
   "language": "python",
   "name": "python3"
  },
  "language_info": {
   "codemirror_mode": {
    "name": "ipython",
    "version": 3
   },
   "file_extension": ".py",
   "mimetype": "text/x-python",
   "name": "python",
   "nbconvert_exporter": "python",
   "pygments_lexer": "ipython3",
   "version": "3.9.12"
  }
 },
 "nbformat": 4,
 "nbformat_minor": 5
}
