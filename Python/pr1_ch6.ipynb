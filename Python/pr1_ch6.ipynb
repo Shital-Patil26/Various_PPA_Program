{
 "cells": [
  {
   "cell_type": "code",
   "execution_count": 4,
   "id": "ba023e73",
   "metadata": {},
   "outputs": [
    {
     "name": "stdout",
     "output_type": "stream",
     "text": [
      "Enter number 1 :34\n",
      "Enter number 2 :21\n",
      "Enter number 3 :20\n",
      "Enter number 4 :11\n",
      "number1 is greater\n",
      "34is greatest\n"
     ]
    }
   ],
   "source": [
    "num1 = int(input(\"Enter number 1 :\"))\n",
    "num2 = int(input(\"Enter number 2 :\"))\n",
    "num3 = int(input(\"Enter number 3 :\"))\n",
    "num4 = int(input(\"Enter number 4 :\"))\n",
    "if(num1>num2 and num1>num3 and num1>num4):\n",
    "    print(\"number1 is greater\")\n",
    "  \n",
    "\n",
    "if(num1>num4):\n",
    "    f1 = num1\n",
    "else:\n",
    "    f1 = num4\n",
    "\n",
    "if(num2>num3):\n",
    "    f2 = num2\n",
    "else:\n",
    "    f2 = num3\n",
    "    \n",
    "if(f1>f2):\n",
    "    print(str(f1) + \"is greatest\")\n",
    "else:\n",
    "    print(str(f2) + \"is grestest\")\n"
   ]
  },
  {
   "cell_type": "code",
   "execution_count": null,
   "id": "145071b9",
   "metadata": {},
   "outputs": [],
   "source": []
  },
  {
   "cell_type": "code",
   "execution_count": null,
   "id": "d38af2a7",
   "metadata": {},
   "outputs": [],
   "source": []
  }
 ],
 "metadata": {
  "kernelspec": {
   "display_name": "Python 3 (ipykernel)",
   "language": "python",
   "name": "python3"
  },
  "language_info": {
   "codemirror_mode": {
    "name": "ipython",
    "version": 3
   },
   "file_extension": ".py",
   "mimetype": "text/x-python",
   "name": "python",
   "nbconvert_exporter": "python",
   "pygments_lexer": "ipython3",
   "version": "3.9.12"
  }
 },
 "nbformat": 4,
 "nbformat_minor": 5
}
