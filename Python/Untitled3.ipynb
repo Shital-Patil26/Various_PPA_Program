{
 "cells": [
  {
   "cell_type": "code",
   "execution_count": 6,
   "id": "b8e22bad",
   "metadata": {},
   "outputs": [
    {
     "name": "stdout",
     "output_type": "stream",
     "text": [
      "Press q to quit\n",
      "Enter a number 7\n",
      "You enter a number greater than 6\n",
      "Press q to quit\n",
      "Enter a number 9\n",
      "You enter a number greater than 6\n",
      "Press q to quit\n",
      "Enter a number 1\n",
      "Press q to quit\n",
      "Enter a number shiutal\n",
      "invalid literal for int() with base 10: 'shiutal'\n",
      "Press q to quit\n",
      "Enter a number q\n",
      "Thanks for playing this game\n"
     ]
    }
   ],
   "source": [
    "while(True):    \n",
    "    print(\"Press q to quit\")\n",
    "    a = input(\"Enter a number \")\n",
    "    if a == 'q':\n",
    "        break\n",
    "    try:\n",
    "        a = int(a) \n",
    "        if a>6 :\n",
    "            print(\"You enter a number greater than 6\")\n",
    "    except Exception as e:\n",
    "        print(e)\n",
    "print(\" Thanks for playing this game \")"
   ]
  },
  {
   "cell_type": "code",
   "execution_count": null,
   "id": "10a859db",
   "metadata": {},
   "outputs": [],
   "source": []
  }
 ],
 "metadata": {
  "kernelspec": {
   "display_name": "Python 3 (ipykernel)",
   "language": "python",
   "name": "python3"
  },
  "language_info": {
   "codemirror_mode": {
    "name": "ipython",
    "version": 3
   },
   "file_extension": ".py",
   "mimetype": "text/x-python",
   "name": "python",
   "nbconvert_exporter": "python",
   "pygments_lexer": "ipython3",
   "version": "3.9.12"
  }
 },
 "nbformat": 4,
 "nbformat_minor": 5
}
