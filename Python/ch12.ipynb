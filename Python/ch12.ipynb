{
 "cells": [
  {
   "cell_type": "code",
   "execution_count": 6,
   "id": "97ac17a1",
   "metadata": {},
   "outputs": [
    {
     "name": "stdout",
     "output_type": "stream",
     "text": [
      "Enter a number4\n",
      "0.25\n",
      "Thanks for using this code:\n"
     ]
    }
   ],
   "source": [
    "try:\n",
    "    a=int(input(\"Enter a number \"))\n",
    "    c=1/a\n",
    "    print(c)\n",
    "except ValueError as e:\n",
    "    print(\"Please Enter a valid number\")\n",
    "   # print(e)\n",
    "except ZeroDivisionError as e:\n",
    "    print(\"Make sure you are not divide by 0\")\n",
    "    #print(e)\n",
    "    \n",
    "print(\"Thanks for using this code:\")"
   ]
  },
  {
   "cell_type": "code",
   "execution_count": null,
   "id": "9882478d",
   "metadata": {},
   "outputs": [],
   "source": []
  },
  {
   "cell_type": "code",
   "execution_count": null,
   "id": "d6a2977b",
   "metadata": {},
   "outputs": [],
   "source": []
  }
 ],
 "metadata": {
  "kernelspec": {
   "display_name": "Python 3 (ipykernel)",
   "language": "python",
   "name": "python3"
  },
  "language_info": {
   "codemirror_mode": {
    "name": "ipython",
    "version": 3
   },
   "file_extension": ".py",
   "mimetype": "text/x-python",
   "name": "python",
   "nbconvert_exporter": "python",
   "pygments_lexer": "ipython3",
   "version": "3.9.12"
  }
 },
 "nbformat": 4,
 "nbformat_minor": 5
}
