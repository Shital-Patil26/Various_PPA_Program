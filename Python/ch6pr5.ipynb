{
 "cells": [
  {
   "cell_type": "code",
   "execution_count": 9,
   "id": "e91ce72d",
   "metadata": {},
   "outputs": [
    {
     "name": "stdout",
     "output_type": "stream",
     "text": [
      "Enter student marks \n",
      "99\n",
      "Your grade is Ex\n"
     ]
    }
   ],
   "source": [
    "\n",
    "marks=int(input(\"Enter student marks \\n\"))\n",
    "\n",
    "if marks>=90:   \n",
    "    grade=\"Ex\"\n",
    "elif marks>=80:\n",
    "    grade=\"A\"\n",
    "elif marks>=70:\n",
    "    grade=\"B\"\n",
    "elif marks>=60:\n",
    "    grade=\"C\"\n",
    "elif marks>=50:\n",
    "    grade=\"D\"\n",
    "else:\n",
    "    grade=\"F\"\n",
    "\n",
    "print(\"Your grade is \"+ grade)"
   ]
  },
  {
   "cell_type": "code",
   "execution_count": null,
   "id": "00290dcb",
   "metadata": {},
   "outputs": [],
   "source": []
  }
 ],
 "metadata": {
  "kernelspec": {
   "display_name": "Python 3 (ipykernel)",
   "language": "python",
   "name": "python3"
  },
  "language_info": {
   "codemirror_mode": {
    "name": "ipython",
    "version": 3
   },
   "file_extension": ".py",
   "mimetype": "text/x-python",
   "name": "python",
   "nbconvert_exporter": "python",
   "pygments_lexer": "ipython3",
   "version": "3.9.12"
  }
 },
 "nbformat": 4,
 "nbformat_minor": 5
}
