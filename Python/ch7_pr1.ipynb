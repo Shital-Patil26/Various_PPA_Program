{
 "cells": [
  {
   "cell_type": "code",
   "execution_count": 8,
   "id": "7a3df5d4",
   "metadata": {},
   "outputs": [
    {
     "name": "stdout",
     "output_type": "stream",
     "text": [
      "Enter Number  17\n",
      "17X1=17\n",
      "17X2=34\n",
      "17X3=51\n",
      "17X4=68\n",
      "17X5=85\n",
      "17X6=102\n",
      "17X7=119\n",
      "17X8=136\n",
      "17X9=153\n",
      "17X10=170\n"
     ]
    }
   ],
   "source": [
    "num=int(input(\"Enter Number  \"))\n",
    "for i in range(1,11):\n",
    "    #print(str(num) + \"X\" + str(i) + \"=\" + str(i*num))\n",
    "    print(f\"{num}X{i}={num*i}\")"
   ]
  },
  {
   "cell_type": "code",
   "execution_count": 16,
   "id": "9defac55",
   "metadata": {},
   "outputs": [
    {
     "name": "stdout",
     "output_type": "stream",
     "text": [
      "Enter Number  3\n",
      "3X10=30\n",
      "3X9=27\n",
      "3X8=24\n",
      "3X7=21\n",
      "3X6=18\n",
      "3X5=15\n",
      "3X4=12\n",
      "3X3=9\n",
      "3X2=6\n"
     ]
    }
   ],
   "source": [
    "num=int(input(\"Enter Number  \"))\n",
    "\n",
    "for i in range(10,1,-1):\n",
    "    #print(str(num) + \"X\" + str(i) + \"=\" + str(i*num))\n",
    "    print(f\"{num}X{i}={num*i}\")"
   ]
  },
  {
   "cell_type": "code",
   "execution_count": 12,
   "id": "aaefc554",
   "metadata": {},
   "outputs": [
    {
     "name": "stdout",
     "output_type": "stream",
     "text": [
      "Enter Number  12\n",
      "12X1=12\n",
      "12X2=24\n",
      "12X3=36\n",
      "12X4=48\n",
      "12X5=60\n",
      "12X6=72\n",
      "12X7=84\n",
      "12X8=96\n",
      "12X9=108\n",
      "12X10=120\n"
     ]
    }
   ],
   "source": [
    "num=int(input(\"Enter Number  \"))\n",
    "i=1\n",
    "while i<11:\n",
    "    print(str(num) + \"X\" + str(i) + \"=\" + str(i*num))\n",
    "    i = i+1\n",
    "   "
   ]
  },
  {
   "cell_type": "markdown",
   "id": "59e1be57",
   "metadata": {},
   "source": [
    "# "
   ]
  }
 ],
 "metadata": {
  "kernelspec": {
   "display_name": "Python 3 (ipykernel)",
   "language": "python",
   "name": "python3"
  },
  "language_info": {
   "codemirror_mode": {
    "name": "ipython",
    "version": 3
   },
   "file_extension": ".py",
   "mimetype": "text/x-python",
   "name": "python",
   "nbconvert_exporter": "python",
   "pygments_lexer": "ipython3",
   "version": "3.9.12"
  }
 },
 "nbformat": 4,
 "nbformat_minor": 5
}
