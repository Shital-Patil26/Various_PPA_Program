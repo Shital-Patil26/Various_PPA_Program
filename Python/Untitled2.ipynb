{
 "cells": [
  {
   "cell_type": "code",
   "execution_count": 1,
   "id": "f9091116",
   "metadata": {},
   "outputs": [
    {
     "name": "stdout",
     "output_type": "stream",
     "text": [
      "1 dim. array: [1 2 3 4 5]\n"
     ]
    }
   ],
   "source": [
    "import numpy as np\n",
    "n=[1,2,3,4,5]\n",
    "n=np.array(n)\n",
    "print(\"1 dim. array:\",n)"
   ]
  },
  {
   "cell_type": "code",
   "execution_count": 40,
   "id": "32fcfae7",
   "metadata": {},
   "outputs": [
    {
     "name": "stdout",
     "output_type": "stream",
     "text": [
      "2 dim. array: [list([1, 2, 3, 4, 5]) list(['shital', 'sangit'])]\n"
     ]
    },
    {
     "name": "stderr",
     "output_type": "stream",
     "text": [
      "C:\\Users\\uspat\\AppData\\Local\\Temp\\ipykernel_1372\\844812702.py:2: VisibleDeprecationWarning: Creating an ndarray from ragged nested sequences (which is a list-or-tuple of lists-or-tuples-or ndarrays with different lengths or shapes) is deprecated. If you meant to do this, you must specify 'dtype=object' when creating the ndarray.\n",
      "  n1=np.array(n1)\n"
     ]
    }
   ],
   "source": [
    "n1=[1,2,3,4,5],[\"shital\",\"sangit\"]\n",
    "n1=np.array(n1)\n",
    "print(\"2 dim. array:\",n1)"
   ]
  },
  {
   "cell_type": "code",
   "execution_count": 6,
   "id": "cb474b07",
   "metadata": {},
   "outputs": [
    {
     "name": "stdout",
     "output_type": "stream",
     "text": [
      "one cross diagonal\n",
      "\n",
      " [[1. 0. 0. 0.]\n",
      " [0. 1. 0. 0.]\n",
      " [0. 0. 1. 0.]\n",
      " [0. 0. 0. 1.]]\n"
     ]
    }
   ],
   "source": [
    "eyemat=np.eye(4)\n",
    "print(\"one cross diagonal\\n\\n\",eyemat)"
   ]
  },
  {
   "cell_type": "raw",
   "id": "72997066",
   "metadata": {},
   "source": []
  },
  {
   "cell_type": "code",
   "execution_count": 11,
   "id": "8f97ebf3",
   "metadata": {},
   "outputs": [
    {
     "name": "stdout",
     "output_type": "stream",
     "text": [
      "random numbers from 0 to 100:\n",
      " [99 16 98 45 57 63 56 97 64 56 27 45 58 26 78 11 56 97 97 71]\n"
     ]
    }
   ],
   "source": [
    "random_pr=np.random.randint(0,100,10) #select 10 numbers from 0 to 100\n",
    "print(\"random numbers from 0 to 100:\\n\",random_pr)\n"
   ]
  },
  {
   "cell_type": "code",
   "execution_count": 20,
   "id": "f27e745d",
   "metadata": {},
   "outputs": [
    {
     "name": "stdout",
     "output_type": "stream",
     "text": [
      "Last element of the array \n",
      " sangit\n",
      "\n",
      " to print reverse order of array\n",
      " ['sangit' 'kavish' 'gitisha' 'shital']\n"
     ]
    }
   ],
   "source": [
    "names=np.array([\"shital\",\"gitisha\",\"kavish\",\"sangit\"])\n",
    "print(\"Last element of the array \\n\",names[-1])\n",
    "print(\"\\n to print reverse order of array\\n\",names[::-1])"
   ]
  },
  {
   "cell_type": "code",
   "execution_count": 23,
   "id": "3750d31b",
   "metadata": {},
   "outputs": [
    {
     "name": "stdout",
     "output_type": "stream",
     "text": [
      "second row,third element 6\n",
      "for print array\n",
      " [[1 2 3]\n",
      " [4 5 6]\n",
      " [5 7 8]]\n"
     ]
    }
   ],
   "source": [
    "numbers=np.array([[1,2,3],[4,5,6],[5,7,8]])\n",
    "print(\"second row,third element\",numbers[1][2])\n",
    "print(\"for print array\\n\",numbers)"
   ]
  },
  {
   "cell_type": "code",
   "execution_count": 22,
   "id": "ac40381f",
   "metadata": {},
   "outputs": [
    {
     "name": "stdout",
     "output_type": "stream",
     "text": [
      "Numbers inserted\n",
      "\n",
      " [[ 1  2  3  4  5]\n",
      " [ 6  7  8  9 10]\n",
      " [11 12 13 14 15]\n",
      " [16 17 18 19 20]\n",
      " [21 22 23 24 25]]\n"
     ]
    }
   ],
   "source": [
    "numbers=np.arange(1,26).reshape(5,5)\n",
    "print(\"Numbers inserted\\n\\n\",numbers)"
   ]
  },
  {
   "cell_type": "code",
   "execution_count": 25,
   "id": "51919a03",
   "metadata": {},
   "outputs": [
    {
     "name": "stdout",
     "output_type": "stream",
     "text": [
      "replace 10 on even number\t [10  1 10  3 10  5 10  7 10  9 10 11 10 13 10 15]\n"
     ]
    }
   ],
   "source": [
    "numbers=np.array([0,1,2,3,4,5,6,7,8,9,10,11,12,13,14,15])\n",
    "numbers[numbers%2==0]=10\n",
    "print(\"replace 10 on even number\\t\",numbers)"
   ]
  },
  {
   "cell_type": "code",
   "execution_count": 31,
   "id": "c9ff44e2",
   "metadata": {},
   "outputs": [
    {
     "name": "stdout",
     "output_type": "stream",
     "text": [
      "[0 1 2 3 4 5 6 7 8 9]\n",
      "reshape 1 dimension to 2 dimension\n",
      "\n"
     ]
    },
    {
     "data": {
      "text/plain": [
       "array([[0, 1, 2, 3, 4],\n",
       "       [5, 6, 7, 8, 9]])"
      ]
     },
     "execution_count": 31,
     "metadata": {},
     "output_type": "execute_result"
    }
   ],
   "source": [
    "numbers=np.arange(10)\n",
    "print(numbers)\n",
    "print(\"reshape 1 dimension to 2 dimension\\n\")\n",
    "numbers.reshape(2,-1)"
   ]
  },
  {
   "cell_type": "code",
   "execution_count": 36,
   "id": "2f671776",
   "metadata": {},
   "outputs": [
    {
     "name": "stdout",
     "output_type": "stream",
     "text": [
      "common ele in two array\n"
     ]
    },
    {
     "data": {
      "text/plain": [
       "array([ 2, 10, 30, 36])"
      ]
     },
     "execution_count": 36,
     "metadata": {},
     "output_type": "execute_result"
    }
   ],
   "source": [
    "x=np.array([36,10,6,45,30,2])\n",
    "y=np.array([36,85,10,2,7,30])\n",
    "print(\"common ele in two array\")\n",
    "np.intersect1d(x,y)"
   ]
  },
  {
   "cell_type": "code",
   "execution_count": 39,
   "id": "45c49fff",
   "metadata": {},
   "outputs": [
    {
     "name": "stdout",
     "output_type": "stream",
     "text": [
      "[0 1 2 3 4 5 6 7 8 9]\n"
     ]
    },
    {
     "data": {
      "text/plain": [
       "array([3, 4, 5, 6])"
      ]
     },
     "execution_count": 39,
     "metadata": {},
     "output_type": "execute_result"
    }
   ],
   "source": [
    "numbers=np.arange(10)\n",
    "print(numbers)\n",
    "numbers[(numbers>=3) & (numbers <=6)]"
   ]
  },
  {
   "cell_type": "code",
   "execution_count": 41,
   "id": "6265cd02",
   "metadata": {},
   "outputs": [
    {
     "name": "stdout",
     "output_type": "stream",
     "text": [
      "x    1\n",
      "y    2\n",
      "z    3\n",
      "dtype: int64\n"
     ]
    }
   ],
   "source": [
    "import pandas as pd\n",
    "import numpy as np\n",
    "sample_dict={\"x\":1,\"y\":2,\"z\":3}\n",
    "the_series=pd.Series(sample_dict)\n",
    "print(the_series)"
   ]
  },
  {
   "cell_type": "code",
   "execution_count": 44,
   "id": "f9241c46",
   "metadata": {},
   "outputs": [
    {
     "data": {
      "text/plain": [
       "0    1\n",
       "1    2\n",
       "2    3\n",
       "3    4\n",
       "4    5\n",
       "Name: numbers, dtype: object"
      ]
     },
     "execution_count": 44,
     "metadata": {},
     "output_type": "execute_result"
    }
   ],
   "source": [
    "sample_series=pd.Series(list('123456789'))\n",
    "sample_series.name='numbers'\n",
    "sample_series.head()"
   ]
  },
  {
   "cell_type": "code",
   "execution_count": 54,
   "id": "fec1153e",
   "metadata": {},
   "outputs": [
    {
     "data": {
      "text/plain": [
       "0    1\n",
       "1    2\n",
       "2    3\n",
       "dtype: int64"
      ]
     },
     "execution_count": 54,
     "metadata": {},
     "output_type": "execute_result"
    }
   ],
   "source": [
    "first_series=pd.Series([1,2,3,4,6])\n",
    "sec_series=pd.Series([5,6,7,8,4])\n",
    "first_series[~first_series.isin(sec_series)]#the number which is in sec series not in first series means common number"
   ]
  },
  {
   "cell_type": "code",
   "execution_count": 59,
   "id": "02658779",
   "metadata": {},
   "outputs": [
    {
     "name": "stdout",
     "output_type": "stream",
     "text": [
      "    0   1   2   3   4   5\n",
      "0  13  10  21  13  10  14\n",
      "1  17   9   8   5  25   4\n",
      "2  20  22  16   9  28  22\n",
      "3   8  29   2  28   4  10\n",
      "4  12  22  26   6  11   1\n",
      "5   5  25  29  13  27  15\n"
     ]
    }
   ],
   "source": [
    "sample_series=pd.Series(np.random.randint(1,30,36))\n",
    "data_frame=pd.DataFrame(sample_series.values.reshape(6,6))\n",
    "print(data_frame)"
   ]
  },
  {
   "cell_type": "code",
   "execution_count": null,
   "id": "74188a3f",
   "metadata": {},
   "outputs": [],
   "source": []
  }
 ],
 "metadata": {
  "kernelspec": {
   "display_name": "Python 3 (ipykernel)",
   "language": "python",
   "name": "python3"
  },
  "language_info": {
   "codemirror_mode": {
    "name": "ipython",
    "version": 3
   },
   "file_extension": ".py",
   "mimetype": "text/x-python",
   "name": "python",
   "nbconvert_exporter": "python",
   "pygments_lexer": "ipython3",
   "version": "3.9.12"
  }
 },
 "nbformat": 4,
 "nbformat_minor": 5
}
