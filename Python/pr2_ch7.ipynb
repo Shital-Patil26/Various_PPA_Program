{
 "cells": [
  {
   "cell_type": "code",
   "execution_count": 2,
   "id": "bfc5965a",
   "metadata": {},
   "outputs": [
    {
     "name": "stdout",
     "output_type": "stream",
     "text": [
      "Hello Sachin\n",
      "Hello Soham\n",
      "Hello Shital\n",
      "Hello Sangit\n"
     ]
    }
   ],
   "source": [
    "l1=[\"Harry\",\"Sachin\",\"Rahul\",\"Soham\",\"Shital\",\"Sangit\",\"Gitisha\"]\n",
    "\n",
    "for name in l1:\n",
    "    if name.startswith(\"S\"):\n",
    "        print(\"Hello \" + name)"
   ]
  },
  {
   "cell_type": "code",
   "execution_count": 9,
   "id": "0a61acb9",
   "metadata": {},
   "outputs": [
    {
     "name": "stdout",
     "output_type": "stream",
     "text": [
      "Enter number 3\n",
      "This number is prime\n"
     ]
    }
   ],
   "source": [
    "num=int(input(\"Enter number \"))\n",
    "prime = True\n",
    "for i in range(2,num):\n",
    "    if(num%i==0):\n",
    "        prime = False\n",
    "        break\n",
    "if prime:\n",
    "    print(\"This number is prime\")\n",
    "else:\n",
    "    print(\"This number is not prime \")"
   ]
  },
  {
   "cell_type": "markdown",
   "id": "ad297562",
   "metadata": {},
   "source": [
    "### "
   ]
  }
 ],
 "metadata": {
  "kernelspec": {
   "display_name": "Python 3 (ipykernel)",
   "language": "python",
   "name": "python3"
  },
  "language_info": {
   "codemirror_mode": {
    "name": "ipython",
    "version": 3
   },
   "file_extension": ".py",
   "mimetype": "text/x-python",
   "name": "python",
   "nbconvert_exporter": "python",
   "pygments_lexer": "ipython3",
   "version": "3.9.12"
  }
 },
 "nbformat": 4,
 "nbformat_minor": 5
}
