{
 "cells": [
  {
   "cell_type": "code",
   "execution_count": 1,
   "id": "10cf9962",
   "metadata": {},
   "outputs": [
    {
     "name": "stdout",
     "output_type": "stream",
     "text": [
      "2i + 4j + 6k\n",
      "1i + 6j + 9k\n"
     ]
    }
   ],
   "source": [
    "class Vector:\n",
    "    def __init__(self, vec):\n",
    "        self.vec = vec\n",
    "        \n",
    "    def __str__(self):     \n",
    "        return f\"{self.vec[0]}i + {self.vec[1]}j + {self.vec[2]}k\"\n",
    "    \n",
    "v1 = Vector([2,4,6])\n",
    "v2 = Vector([1,6,9])\n",
    "print(v1)\n",
    "print(v2)"
   ]
  },
  {
   "cell_type": "code",
   "execution_count": null,
   "id": "cb954d7e",
   "metadata": {},
   "outputs": [],
   "source": []
  }
 ],
 "metadata": {
  "kernelspec": {
   "display_name": "Python 3 (ipykernel)",
   "language": "python",
   "name": "python3"
  },
  "language_info": {
   "codemirror_mode": {
    "name": "ipython",
    "version": 3
   },
   "file_extension": ".py",
   "mimetype": "text/x-python",
   "name": "python",
   "nbconvert_exporter": "python",
   "pygments_lexer": "ipython3",
   "version": "3.9.12"
  }
 },
 "nbformat": 4,
 "nbformat_minor": 5
}
