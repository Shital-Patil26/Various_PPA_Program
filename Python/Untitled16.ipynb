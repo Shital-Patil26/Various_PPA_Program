{
 "cells": [
  {
   "cell_type": "code",
   "execution_count": null,
   "id": "36cbcc8b",
   "metadata": {},
   "outputs": [],
   "source": [
    "def addition(n):\n",
    "    sum=0\n",
    "    sum = n + addition(n-1)\n",
    "    return sum\n",
    "\n",
    "s=addition(7)\n",
    "print(\"addition of natural number \" + str(s))"
   ]
  },
  {
   "cell_type": "code",
   "execution_count": null,
   "id": "cd0e5d35",
   "metadata": {},
   "outputs": [],
   "source": []
  }
 ],
 "metadata": {
  "kernelspec": {
   "display_name": "Python 3 (ipykernel)",
   "language": "python",
   "name": "python3"
  },
  "language_info": {
   "codemirror_mode": {
    "name": "ipython",
    "version": 3
   },
   "file_extension": ".py",
   "mimetype": "text/x-python",
   "name": "python",
   "nbconvert_exporter": "python",
   "pygments_lexer": "ipython3",
   "version": "3.9.12"
  }
 },
 "nbformat": 4,
 "nbformat_minor": 5
}
