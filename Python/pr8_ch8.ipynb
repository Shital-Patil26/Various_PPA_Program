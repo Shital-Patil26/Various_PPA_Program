{
 "cells": [
  {
   "cell_type": "code",
   "execution_count": 6,
   "id": "be57f5f0",
   "metadata": {},
   "outputs": [
    {
     "name": "stdout",
     "output_type": "stream",
     "text": [
      "***\n",
      "**\n",
      "*\n",
      "\n"
     ]
    }
   ],
   "source": [
    "n=3\n",
    "for i in range(n+1,0,-1):\n",
    "    for j in range(0,i-1):\n",
    "         print(\"*\",end='')  \n",
    "    print(\"\")"
   ]
  },
  {
   "cell_type": "code",
   "execution_count": 17,
   "id": "d161ce2a",
   "metadata": {},
   "outputs": [
    {
     "name": "stdout",
     "output_type": "stream",
     "text": [
      "***\n",
      "**\n",
      "*\n"
     ]
    }
   ],
   "source": [
    "n=3\n",
    "for i in range(n):\n",
    "    print(\"*\" * (n-i))\n",
    "\n"
   ]
  },
  {
   "cell_type": "code",
   "execution_count": 15,
   "id": "68cda956",
   "metadata": {},
   "outputs": [
    {
     "name": "stdout",
     "output_type": "stream",
     "text": [
      "enter number 18\n",
      "18\n",
      "36\n",
      "54\n",
      "72\n",
      "90\n",
      "108\n",
      "126\n",
      "144\n",
      "162\n",
      "180\n"
     ]
    }
   ],
   "source": [
    "def mul(num):\n",
    "    for i in range(1,11):\n",
    "       print(i*num)\n",
    "\n",
    "n1=int(input(\"enter number \"))\n",
    "\n",
    "mul(n1)"
   ]
  },
  {
   "cell_type": "code",
   "execution_count": 34,
   "id": "c7faa728",
   "metadata": {},
   "outputs": [
    {
     "name": "stdout",
     "output_type": "stream",
     "text": [
      "Kavish is a good\n"
     ]
    }
   ],
   "source": [
    "def re_sp(string, word):\n",
    "    newStr = string.replace(word, \" \")\n",
    "    return newStr.strip()\n",
    "\n",
    "\n",
    "this = \"    Kavish is a good  \"\n",
    "n = re_sp(this, \"Kavish\")\n",
    "print(n)\n",
    "#print(this)\n",
    "#print(this.strip())"
   ]
  },
  {
   "cell_type": "code",
   "execution_count": null,
   "id": "33ccff86",
   "metadata": {},
   "outputs": [],
   "source": []
  },
  {
   "cell_type": "code",
   "execution_count": null,
   "id": "81a605d4",
   "metadata": {},
   "outputs": [],
   "source": []
  }
 ],
 "metadata": {
  "kernelspec": {
   "display_name": "Python 3 (ipykernel)",
   "language": "python",
   "name": "python3"
  },
  "language_info": {
   "codemirror_mode": {
    "name": "ipython",
    "version": 3
   },
   "file_extension": ".py",
   "mimetype": "text/x-python",
   "name": "python",
   "nbconvert_exporter": "python",
   "pygments_lexer": "ipython3",
   "version": "3.9.12"
  }
 },
 "nbformat": 4,
 "nbformat_minor": 5
}
