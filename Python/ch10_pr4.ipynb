{
 "cells": [
  {
   "cell_type": "code",
   "execution_count": 1,
   "id": "10efc2c8",
   "metadata": {},
   "outputs": [
    {
     "name": "stdout",
     "output_type": "stream",
     "text": [
      "************Hello,There is world best calculator*********\n",
      "The value of 9 square is 81\n",
      "The value of 9 cuberoot is 3.0\n",
      "The value of 9 cube is 729\n"
     ]
    }
   ],
   "source": [
    "class Calculator:\n",
    "    def __init__(self,num):\n",
    "        self.num = num\n",
    "    def square(self):\n",
    "        print(f\"The value of {self.num} square is {self.num **2}\")\n",
    "    def squareRoot(self):\n",
    "        print(f\"The value of {self.num} cuberoot is {self.num **0.5}\")\n",
    "    def cube(self):\n",
    "        print(f\"The value of {self.num} cube is {self.num **3}\")\n",
    "    \n",
    "    @staticmethod\n",
    "    def greet():\n",
    "        print(\"************Hello,There is world best calculator*********\")\n",
    "a = Calculator(9)\n",
    "a.greet()\n",
    "a.square()\n",
    "a.squareRoot()\n",
    "a.cube()"
   ]
  },
  {
   "cell_type": "code",
   "execution_count": null,
   "id": "d99aa9a6",
   "metadata": {},
   "outputs": [],
   "source": []
  }
 ],
 "metadata": {
  "kernelspec": {
   "display_name": "Python 3 (ipykernel)",
   "language": "python",
   "name": "python3"
  },
  "language_info": {
   "codemirror_mode": {
    "name": "ipython",
    "version": 3
   },
   "file_extension": ".py",
   "mimetype": "text/x-python",
   "name": "python",
   "nbconvert_exporter": "python",
   "pygments_lexer": "ipython3",
   "version": "3.9.12"
  }
 },
 "nbformat": 4,
 "nbformat_minor": 5
}
