{
 "cells": [
  {
   "cell_type": "code",
   "execution_count": 5,
   "id": "9c5cb55f",
   "metadata": {},
   "outputs": [
    {
     "name": "stdout",
     "output_type": "stream",
     "text": [
      "enter first number4\n",
      "Enter Sec number2\n",
      "Average of two number  3.0\n",
      "square of first number  16\n"
     ]
    }
   ],
   "source": [
    "a=input(\"enter first number\")\n",
    "b=input(\"Enter Sec number\" )\n",
    "a=int(a)\n",
    "b=int(b)\n",
    "avg=(a+b)/2\n",
    "print(\"Average of two number \",avg)\n",
    "print(\"square of first number \",a*a)"
   ]
  },
  {
   "cell_type": "code",
   "execution_count": null,
   "id": "64452b94",
   "metadata": {},
   "outputs": [],
   "source": []
  },
  {
   "cell_type": "code",
   "execution_count": null,
   "id": "1bfce240",
   "metadata": {},
   "outputs": [],
   "source": []
  }
 ],
 "metadata": {
  "kernelspec": {
   "display_name": "Python 3 (ipykernel)",
   "language": "python",
   "name": "python3"
  },
  "language_info": {
   "codemirror_mode": {
    "name": "ipython",
    "version": 3
   },
   "file_extension": ".py",
   "mimetype": "text/x-python",
   "name": "python",
   "nbconvert_exporter": "python",
   "pygments_lexer": "ipython3",
   "version": "3.9.12"
  }
 },
 "nbformat": 4,
 "nbformat_minor": 5
}
