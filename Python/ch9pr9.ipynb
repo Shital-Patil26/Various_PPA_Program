{
 "cells": [
  {
   "cell_type": "code",
   "execution_count": 4,
   "id": "57e0f8cc",
   "metadata": {},
   "outputs": [
    {
     "name": "stdout",
     "output_type": "stream",
     "text": [
      "Both files are identical\n"
     ]
    }
   ],
   "source": [
    "file1=\"this.txt\"\n",
    "file2=\"copy.txt\"\n",
    "\n",
    "with open(file1) as f:\n",
    "    f1=f.read()\n",
    "\n",
    "with open(file2) as f:\n",
    "    f2=f.read()\n",
    "    \n",
    "    if f1 == f2:\n",
    "        print(\"Both files are identical\")\n",
    "    else:\n",
    "        print(\"Both are not identical\")\n",
    "        \n",
    "    \n"
   ]
  },
  {
   "cell_type": "code",
   "execution_count": null,
   "id": "da999ee6",
   "metadata": {},
   "outputs": [],
   "source": []
  }
 ],
 "metadata": {
  "kernelspec": {
   "display_name": "Python 3 (ipykernel)",
   "language": "python",
   "name": "python3"
  },
  "language_info": {
   "codemirror_mode": {
    "name": "ipython",
    "version": 3
   },
   "file_extension": ".py",
   "mimetype": "text/x-python",
   "name": "python",
   "nbconvert_exporter": "python",
   "pygments_lexer": "ipython3",
   "version": "3.9.12"
  }
 },
 "nbformat": 4,
 "nbformat_minor": 5
}
