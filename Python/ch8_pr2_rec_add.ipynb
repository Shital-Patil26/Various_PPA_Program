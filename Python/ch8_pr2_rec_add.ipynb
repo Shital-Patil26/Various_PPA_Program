{
 "cells": [
  {
   "cell_type": "code",
   "execution_count": 7,
   "id": "f545f253",
   "metadata": {},
   "outputs": [
    {
     "name": "stdout",
     "output_type": "stream",
     "text": [
      "The sum is  15\n"
     ]
    }
   ],
   "source": [
    "def rec_add(n):\n",
    "    if (n<=1):\n",
    "        return n\n",
    "    else:\n",
    "        return n + rec_add(n-1)\n",
    "    \n",
    "num = 5\n",
    "if(num<0):\n",
    "    print(\"Plz Enter a positive number \")\n",
    "else:\n",
    "    print(\"The sum is \",rec_add(num))\n",
    "    \n",
    "    \n",
    "    \n"
   ]
  },
  {
   "cell_type": "code",
   "execution_count": 15,
   "id": "e5a238c0",
   "metadata": {},
   "outputs": [
    {
     "name": "stdout",
     "output_type": "stream",
     "text": [
      "***\n",
      "* *\n",
      "***\n"
     ]
    }
   ],
   "source": [
    "\n",
    "size=3\n",
    "for i in range(size):\n",
    "    for j in range(size):\n",
    "        if i == 0 or i == size - 1 or j ==0 or j == size-1:\n",
    "            print('*', end='')\n",
    "        else:\n",
    "            print(\" \", end='')\n",
    "            \n",
    "    print()\n",
    "    \n",
    "    "
   ]
  },
  {
   "cell_type": "code",
   "execution_count": 16,
   "id": "738d1dc7",
   "metadata": {},
   "outputs": [
    {
     "name": "stdout",
     "output_type": "stream",
     "text": [
      "***\n",
      "* *\n",
      "***\n"
     ]
    }
   ],
   "source": [
    "\n",
    "size=3\n",
    "for i in range(size):\n",
    " print('*', end='')\n",
    "        else:\n",
    "            print(\" \", end='')\n",
    "            \n",
    "    print()\n",
    "    \n",
    "    "
   ]
  },
  {
   "cell_type": "code",
   "execution_count": 23,
   "id": "461b38a5",
   "metadata": {},
   "outputs": [
    {
     "name": "stdout",
     "output_type": "stream",
     "text": [
      "\n",
      "\n",
      "\n",
      "\n",
      "\n",
      "\n"
     ]
    }
   ],
   "source": []
  },
  {
   "cell_type": "code",
   "execution_count": null,
   "id": "96088d8f",
   "metadata": {},
   "outputs": [],
   "source": []
  }
 ],
 "metadata": {
  "kernelspec": {
   "display_name": "Python 3 (ipykernel)",
   "language": "python",
   "name": "python3"
  },
  "language_info": {
   "codemirror_mode": {
    "name": "ipython",
    "version": 3
   },
   "file_extension": ".py",
   "mimetype": "text/x-python",
   "name": "python",
   "nbconvert_exporter": "python",
   "pygments_lexer": "ipython3",
   "version": "3.9.12"
  }
 },
 "nbformat": 4,
 "nbformat_minor": 5
}
