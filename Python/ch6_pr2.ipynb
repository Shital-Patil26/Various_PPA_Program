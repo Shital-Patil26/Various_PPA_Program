{
 "cells": [
  {
   "cell_type": "code",
   "execution_count": 4,
   "id": "69905697",
   "metadata": {},
   "outputs": [
    {
     "name": "stdout",
     "output_type": "stream",
     "text": [
      "enter 1 st sub marks : 32\n",
      "enter 2 nd sub marks : 43\n",
      "enter 3 rd sub marks : 54\n",
      "you are fail because you have less than 33% in one of the subject\n"
     ]
    }
   ],
   "source": [
    "s1=int(input(\"enter 1 st sub marks : \"))\n",
    "s2=int(input(\"enter 2 nd sub marks : \"))\n",
    "s3=int(input(\"enter 3 rd sub marks : \"))\n",
    "\n",
    "if(s1<33 or s2<33 or s3<33):\n",
    "    print(\"you are fail because you have less than 33% in one of the subject\")\n",
    "elif(((s1+s2+s3)/3) <40):\n",
    "     print(\"you are fail due to total percentage is less than 40\")\n",
    "else:\n",
    "    print(\"you are pass\")"
   ]
  },
  {
   "cell_type": "code",
   "execution_count": null,
   "id": "71f930ef",
   "metadata": {},
   "outputs": [],
   "source": []
  }
 ],
 "metadata": {
  "kernelspec": {
   "display_name": "Python 3 (ipykernel)",
   "language": "python",
   "name": "python3"
  },
  "language_info": {
   "codemirror_mode": {
    "name": "ipython",
    "version": 3
   },
   "file_extension": ".py",
   "mimetype": "text/x-python",
   "name": "python",
   "nbconvert_exporter": "python",
   "pygments_lexer": "ipython3",
   "version": "3.9.12"
  }
 },
 "nbformat": 4,
 "nbformat_minor": 5
}
