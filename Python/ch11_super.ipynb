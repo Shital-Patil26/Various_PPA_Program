{
 "cells": [
  {
   "cell_type": "code",
   "execution_count": 26,
   "id": "d30d2579",
   "metadata": {},
   "outputs": [
    {
     "name": "stdout",
     "output_type": "stream",
     "text": [
      "Initializing Person....\n",
      "\n",
      "Initializing Employee.....\n",
      "\n",
      "Initializing Programmer.....\n",
      "\n"
     ]
    },
    {
     "data": {
      "text/plain": [
       "'p = Person()\\np.takeBreath()\\n#print(p.company) Throws an error\\ne = Employee()\\ne.takeBreath()\\nprint(e.company)\\npr = Programmer()\\npr.takeBreath()'"
      ]
     },
     "execution_count": 26,
     "metadata": {},
     "output_type": "execute_result"
    }
   ],
   "source": [
    "class Person:\n",
    "    country = \"India\"\n",
    "    \n",
    "    def __init__(self):\n",
    "        print(\"Initializing Person....\\n\")\n",
    "   \n",
    "    def takeBreath(self):\n",
    "        print(\"I am breathing.....\")\n",
    "        \n",
    "class Employee(Person):\n",
    "    company = \"Honda\"\n",
    "    \n",
    "    def __init__(self):\n",
    "        super().__init__()\n",
    "        print(\"Initializing Employee.....\\n\")\n",
    "        \n",
    "    def getSal(self):\n",
    "        print(f\"Salary is {self.salary}\")\n",
    "        \n",
    "    def takeBreath(self):\n",
    "        super().takeBreath()\n",
    "        print(\"I am an Employee,so I am luckyly breath...\")\n",
    "        \n",
    "class Programmer(Employee):\n",
    "    company = \"Fiverr\"\n",
    "    \n",
    "    def __init__(self):\n",
    "        super().__init__()\n",
    "        print(\"Initializing Programmer.....\\n\")\n",
    "        \n",
    "    def getSal(self):\n",
    "        print(\"No salary to programmer \")\n",
    "        \n",
    "    def takeBreath(self):\n",
    "        super().takeBreath()\n",
    "        print(\"I am an Programmer,so I am breathing++ ...\")\n",
    "\n",
    "        \n",
    "e = Employee()\n",
    "pr = Programmer()\n",
    "\n",
    "'''p = Person()\n",
    "p.takeBreath()\n",
    "#print(p.company) Throws an error\n",
    "e = Employee()\n",
    "e.takeBreath()\n",
    "print(e.company)\n",
    "pr = Programmer()\n",
    "pr.takeBreath()'''\n",
    "\n",
    "\n",
    "\n",
    "        \n",
    "        \n",
    "    "
   ]
  },
  {
   "cell_type": "code",
   "execution_count": null,
   "id": "0c8720a5",
   "metadata": {},
   "outputs": [],
   "source": []
  }
 ],
 "metadata": {
  "kernelspec": {
   "display_name": "Python 3 (ipykernel)",
   "language": "python",
   "name": "python3"
  },
  "language_info": {
   "codemirror_mode": {
    "name": "ipython",
    "version": 3
   },
   "file_extension": ".py",
   "mimetype": "text/x-python",
   "name": "python",
   "nbconvert_exporter": "python",
   "pygments_lexer": "ipython3",
   "version": "3.9.12"
  }
 },
 "nbformat": 4,
 "nbformat_minor": 5
}
