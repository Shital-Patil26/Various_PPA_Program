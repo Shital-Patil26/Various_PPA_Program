{
 "cells": [
  {
   "cell_type": "code",
   "execution_count": 4,
   "id": "21891b89",
   "metadata": {},
   "outputs": [],
   "source": [
    "words = [\"donkey\",\"kaddu\",\"mote\"]\n",
    "\n",
    "with open(\"sam.txt\") as f:\n",
    "    content = f.read()\n",
    "    \n",
    "for word in words:\n",
    "    content = content.replace(word,\"$%^&**\")\n",
    "    with open(\"sam.txt\",'w') as f:\n",
    "        f.write(content)"
   ]
  },
  {
   "cell_type": "code",
   "execution_count": null,
   "id": "b9387cd0",
   "metadata": {},
   "outputs": [],
   "source": []
  }
 ],
 "metadata": {
  "kernelspec": {
   "display_name": "Python 3 (ipykernel)",
   "language": "python",
   "name": "python3"
  },
  "language_info": {
   "codemirror_mode": {
    "name": "ipython",
    "version": 3
   },
   "file_extension": ".py",
   "mimetype": "text/x-python",
   "name": "python",
   "nbconvert_exporter": "python",
   "pygments_lexer": "ipython3",
   "version": "3.9.12"
  }
 },
 "nbformat": 4,
 "nbformat_minor": 5
}
