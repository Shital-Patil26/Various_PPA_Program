{
 "cells": [
  {
   "cell_type": "code",
   "execution_count": 18,
   "id": "63b71d66",
   "metadata": {},
   "outputs": [
    {
     "name": "stdout",
     "output_type": "stream",
     "text": [
      "hi i \n"
     ]
    }
   ],
   "source": [
    "\n",
    "#f = open('sam.txt' , 'r')\n",
    "f = open('sam.txt','r')\n",
    "#data = f.read()\n",
    "data = f.read(5)\n",
    "print(data)\n",
    "f.close()"
   ]
  },
  {
   "cell_type": "code",
   "execution_count": 1,
   "id": "7e4f8f8e",
   "metadata": {},
   "outputs": [
    {
     "name": "stdout",
     "output_type": "stream",
     "text": [
      "hi i am shital\n",
      "\n",
      "hello,i live in puna\n",
      "\n",
      "i have two children \n",
      "\n",
      "one elder daughter her name is gitisha\n",
      "\n"
     ]
    }
   ],
   "source": [
    "\n",
    "#f = open('sam.txt' , 'r')\n",
    "f = open('sam.txt','r')\n",
    "#data = f.read()\n",
    "data = f.readline()#read first line\n",
    "print(data)\n",
    "data = f.readline()#read sec line\n",
    "print(data)\n",
    "data = f.readline()#read third line\n",
    "print(data)\n",
    "data = f.readline()#read four line\n",
    "print(data)\n",
    "f.close()"
   ]
  },
  {
   "cell_type": "code",
   "execution_count": null,
   "id": "02eaebc9",
   "metadata": {},
   "outputs": [],
   "source": []
  },
  {
   "cell_type": "code",
   "execution_count": null,
   "id": "d04fc6ad",
   "metadata": {},
   "outputs": [],
   "source": []
  }
 ],
 "metadata": {
  "kernelspec": {
   "display_name": "Python 3 (ipykernel)",
   "language": "python",
   "name": "python3"
  },
  "language_info": {
   "codemirror_mode": {
    "name": "ipython",
    "version": 3
   },
   "file_extension": ".py",
   "mimetype": "text/x-python",
   "name": "python",
   "nbconvert_exporter": "python",
   "pygments_lexer": "ipython3",
   "version": "3.9.12"
  }
 },
 "nbformat": 4,
 "nbformat_minor": 5
}
