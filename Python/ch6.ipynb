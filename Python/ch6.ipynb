{
 "cells": [
  {
   "cell_type": "code",
   "execution_count": 6,
   "id": "eb9f3c9b",
   "metadata": {},
   "outputs": [
    {
     "name": "stdout",
     "output_type": "stream",
     "text": [
      "a is equal to 10\n"
     ]
    }
   ],
   "source": [
    "a=10\n",
    "if(a>10):\n",
    "    print(\"a is greater than 10 \")\n",
    "elif(a<10):\n",
    "    print(\"a is less than 10\")\n",
    "else:\n",
    "    print(\"a is equal to 10\")"
   ]
  },
  {
   "cell_type": "code",
   "execution_count": 18,
   "id": "c1160419",
   "metadata": {},
   "outputs": [
    {
     "name": "stdout",
     "output_type": "stream",
     "text": [
      "enter number 23\n",
      "a is greater than 13 \n",
      "Done\n"
     ]
    }
   ],
   "source": [
    "a=int(input(\"enter number \"))\n",
    "if(a > 23):\n",
    "    print(\"a is greater than 3\")\n",
    "elif(a > 13):\n",
    "    print(\"a is greater than 13 \")\n",
    "elif(a>17):\n",
    "    print(\"a is greater than 17 \")\n",
    "elif(a<7):\n",
    "    print(\"a is less than 7 \")\n",
    "else:\n",
    "    print(\"a isnot greater than 7 or 13\")\n",
    "    \n",
    "print(\"Done\")\n"
   ]
  },
  {
   "cell_type": "markdown",
   "id": "d8cb720a",
   "metadata": {},
   "source": [
    "### "
   ]
  },
  {
   "cell_type": "code",
   "execution_count": 21,
   "id": "1544fdbd",
   "metadata": {},
   "outputs": [
    {
     "name": "stdout",
     "output_type": "stream",
     "text": [
      "enter number 34\n",
      "a is greater than 3\n",
      "a is greater than 13 \n",
      "a is greater than 17 \n",
      "a isnot greater than 7 or 13\n",
      "Done\n"
     ]
    }
   ],
   "source": [
    "#multiple if\n",
    "\n",
    "a=int(input(\"enter number \"))\n",
    "if(a > 23):\n",
    "    print(\"a is greater than 3\")\n",
    "if(a > 13):\n",
    "    print(\"a is greater than 13 \")\n",
    "if(a>17):\n",
    "    print(\"a is greater than 17 \")\n",
    "if(a<7):\n",
    "    print(\"a is less than 7 \")\n",
    "else:\n",
    "    print(\"a isnot greater than 7 or 13\")\n",
    "    \n",
    "print(\"Done\")"
   ]
  },
  {
   "cell_type": "markdown",
   "id": "2d9bedce",
   "metadata": {},
   "source": []
  },
  {
   "cell_type": "code",
   "execution_count": 24,
   "id": "34b0d765",
   "metadata": {},
   "outputs": [
    {
     "name": "stdout",
     "output_type": "stream",
     "text": [
      "Enter your age\n",
      "18\n",
      "Yes\n"
     ]
    }
   ],
   "source": [
    "age=int(input(\"Enter your age\\n\"))\n",
    "if(age>18):\n",
    "     print(\"Yes\")\n",
    "else:\n",
    "    print(\"No\")"
   ]
  },
  {
   "cell_type": "code",
   "execution_count": 29,
   "id": "fdf708a8",
   "metadata": {},
   "outputs": [
    {
     "name": "stdout",
     "output_type": "stream",
     "text": [
      "Enter your age\n",
      "35\n",
      "you can work with us\n"
     ]
    }
   ],
   "source": [
    "#Logical and relational operator\n",
    "#and operator\n",
    "age=int(input(\"Enter your age\\n\"))\n",
    "if(age > 34 and age < 56):\n",
    "    print(\"you can work with us\")\n",
    "else:\n",
    "    print(\"You cannot work \")"
   ]
  },
  {
   "cell_type": "code",
   "execution_count": 34,
   "id": "573981d1",
   "metadata": {},
   "outputs": [
    {
     "name": "stdout",
     "output_type": "stream",
     "text": [
      "Enter your age\n",
      "18\n",
      "you can work with us\n"
     ]
    }
   ],
   "source": [
    "#Logical OR\n",
    "age=int(input(\"Enter your age\\n\"))\n",
    "if(age > 34 or age < 56):\n",
    "    print(\"you can work with us\")\n",
    "else:\n",
    "    print(\"You cannot work \")"
   ]
  },
  {
   "cell_type": "code",
   "execution_count": 35,
   "id": "516b1daa",
   "metadata": {},
   "outputs": [
    {
     "name": "stdout",
     "output_type": "stream",
     "text": [
      "Yes\n"
     ]
    }
   ],
   "source": [
    "# in and is Assignment\n",
    "a = None\n",
    "if(a is None):\n",
    "    print(\"Yes\")\n",
    "else:\n",
    "    print(\"No\")\n"
   ]
  },
  {
   "cell_type": "code",
   "execution_count": 37,
   "id": "13d0191d",
   "metadata": {},
   "outputs": [
    {
     "name": "stdout",
     "output_type": "stream",
     "text": [
      "True\n"
     ]
    }
   ],
   "source": [
    "# in \n",
    "a = [435,56,7]\n",
    "\n",
    "print(435 in a)"
   ]
  },
  {
   "cell_type": "code",
   "execution_count": null,
   "id": "5a1158e6",
   "metadata": {},
   "outputs": [],
   "source": [
    "a=67\n",
    "if(a==7):\n",
    "    print(\"Yes\")\n",
    "elif(a>56):\n",
    "    print(\"No and Yes\")\n",
    "else:\n",
    "    print(\"else optional\")\n"
   ]
  },
  {
   "cell_type": "code",
   "execution_count": null,
   "id": "288e697b",
   "metadata": {},
   "outputs": [],
   "source": []
  },
  {
   "cell_type": "code",
   "execution_count": null,
   "id": "8aa18dc7",
   "metadata": {},
   "outputs": [],
   "source": [
    "num1 = int(input(\"Enter number 1 :\"))\n",
    "num2 = int(input(\"Enter number 2 :\"))\n",
    "num3 = int(input(\"Enter number 3 :\"))\n",
    "num4 = int(input(\"Enter number 4 :\"))\n",
    "if(num1>num4):\n",
    "    f1 = num1\n",
    "else:\n",
    "    f1 = num4\n",
    "\n",
    "if(num2>num3):\n",
    "    f2 = num2\n",
    "else:\n",
    "    f2 = num3\n",
    "    \n",
    "if(f1>f2):\n",
    "    print(str(f1) + \"is greatest\")\n",
    "else:\n",
    "    print(str(f2) + \"is grestest\")\n"
   ]
  },
  {
   "cell_type": "code",
   "execution_count": null,
   "id": "16b9bc17",
   "metadata": {},
   "outputs": [],
   "source": []
  },
  {
   "cell_type": "code",
   "execution_count": null,
   "id": "03af38ee",
   "metadata": {},
   "outputs": [],
   "source": []
  }
 ],
 "metadata": {
  "kernelspec": {
   "display_name": "Python 3 (ipykernel)",
   "language": "python",
   "name": "python3"
  },
  "language_info": {
   "codemirror_mode": {
    "name": "ipython",
    "version": 3
   },
   "file_extension": ".py",
   "mimetype": "text/x-python",
   "name": "python",
   "nbconvert_exporter": "python",
   "pygments_lexer": "ipython3",
   "version": "3.9.12"
  }
 },
 "nbformat": 4,
 "nbformat_minor": 5
}
