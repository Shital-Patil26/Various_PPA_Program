{
 "cells": [
  {
   "cell_type": "code",
   "execution_count": 16,
   "id": "8386310f",
   "metadata": {},
   "outputs": [],
   "source": [
    "def game():\n",
    "    return 480\n",
    "\n",
    "score = game()\n",
    "with open(\"highscore.txt\") as f:\n",
    "    hiscore = f.read()\n",
    "    \n",
    "if hiscore=='':\n",
    "    with open(\"highscore.txt\",\"w\") as f:\n",
    "        f.write(str(score))\n",
    "        \n",
    "elif int(hiscore)<score:\n",
    "    with open(\"highscore.txt\",\"w\") as f:\n",
    "        f.write(str(score))"
   ]
  },
  {
   "cell_type": "code",
   "execution_count": null,
   "id": "2f165118",
   "metadata": {},
   "outputs": [],
   "source": []
  }
 ],
 "metadata": {
  "kernelspec": {
   "display_name": "Python 3 (ipykernel)",
   "language": "python",
   "name": "python3"
  },
  "language_info": {
   "codemirror_mode": {
    "name": "ipython",
    "version": 3
   },
   "file_extension": ".py",
   "mimetype": "text/x-python",
   "name": "python",
   "nbconvert_exporter": "python",
   "pygments_lexer": "ipython3",
   "version": "3.9.12"
  }
 },
 "nbformat": 4,
 "nbformat_minor": 5
}
