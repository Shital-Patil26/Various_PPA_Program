{
 "cells": [
  {
   "cell_type": "code",
   "execution_count": 6,
   "id": "de5f5c5a",
   "metadata": {},
   "outputs": [
    {
     "name": "stdout",
     "output_type": "stream",
     "text": [
      "enter posthaRRy khjh\n",
      "given post is about harry\n"
     ]
    }
   ],
   "source": [
    "text=input(\"enter post\")\n",
    "flag=0\n",
    "up=text.upper()\n",
    "\n",
    "if(\"HARRY\" in up):\n",
    "    flag=1\n",
    "else:\n",
    "    flag=0\n",
    "    \n",
    "if(flag==1):\n",
    "        print(\"given post is about harry\")\n",
    "else:\n",
    "        print(\"given post isnot about harry\")"
   ]
  },
  {
   "cell_type": "code",
   "execution_count": null,
   "id": "007f6ec0",
   "metadata": {},
   "outputs": [],
   "source": []
  }
 ],
 "metadata": {
  "kernelspec": {
   "display_name": "Python 3 (ipykernel)",
   "language": "python",
   "name": "python3"
  },
  "language_info": {
   "codemirror_mode": {
    "name": "ipython",
    "version": 3
   },
   "file_extension": ".py",
   "mimetype": "text/x-python",
   "name": "python",
   "nbconvert_exporter": "python",
   "pygments_lexer": "ipython3",
   "version": "3.9.12"
  }
 },
 "nbformat": 4,
 "nbformat_minor": 5
}
