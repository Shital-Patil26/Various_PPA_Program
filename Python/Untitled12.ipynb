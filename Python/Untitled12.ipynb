{
 "cells": [
  {
   "cell_type": "code",
   "execution_count": 32,
   "id": "e545ee0b",
   "metadata": {},
   "outputs": [
    {
     "name": "stdout",
     "output_type": "stream",
     "text": [
      "Enter the text\n",
      "ghth\n",
      "This text isnot spam\n"
     ]
    }
   ],
   "source": [
    "text=input(\"Enter the text\\n\")\n",
    "spam =False\n",
    "\n",
    "if(\"make a lot of money\" in text):\n",
    "    spam = True\n",
    "elif(\"buy now\" in text):\n",
    "        spam =True\n",
    "elif(\"subscribe this\" in text):\n",
    "        spam =True\n",
    "elif(\"click this\" in text):\n",
    "        spam = True\n",
    "else:\n",
    "        spam = False\n",
    "\n",
    "    #print(\"This text is spam\" +spam)\n",
    "if(spam):\n",
    "     print(\"This text is spam\")\n",
    "else:\n",
    "    print(\"This text isnot spam\")"
   ]
  },
  {
   "cell_type": "code",
   "execution_count": null,
   "id": "e67eea3e",
   "metadata": {},
   "outputs": [],
   "source": []
  },
  {
   "cell_type": "code",
   "execution_count": null,
   "id": "59b99950",
   "metadata": {},
   "outputs": [],
   "source": []
  }
 ],
 "metadata": {
  "kernelspec": {
   "display_name": "Python 3 (ipykernel)",
   "language": "python",
   "name": "python3"
  },
  "language_info": {
   "codemirror_mode": {
    "name": "ipython",
    "version": 3
   },
   "file_extension": ".py",
   "mimetype": "text/x-python",
   "name": "python",
   "nbconvert_exporter": "python",
   "pygments_lexer": "ipython3",
   "version": "3.9.12"
  }
 },
 "nbformat": 4,
 "nbformat_minor": 5
}
