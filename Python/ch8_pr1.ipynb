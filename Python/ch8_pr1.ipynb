{
 "cells": [
  {
   "cell_type": "code",
   "execution_count": 10,
   "id": "6cc0d1e3",
   "metadata": {},
   "outputs": [
    {
     "name": "stdout",
     "output_type": "stream",
     "text": [
      "120\n"
     ]
    }
   ],
   "source": [
    "def factorial_iter(n):\n",
    "    product=1\n",
    "\n",
    "    for i in range(n):\n",
    "        product = product * (i+1)\n",
    "       \n",
    "    return product\n",
    "    \n",
    "print(factorial_iter(5))"
   ]
  },
  {
   "cell_type": "code",
   "execution_count": 16,
   "id": "7df03e5e",
   "metadata": {},
   "outputs": [
    {
     "name": "stdout",
     "output_type": "stream",
     "text": [
      "1\n"
     ]
    }
   ],
   "source": [
    "#Recursiv Function\n",
    "def fact_rec(n):\n",
    "    if n == 1 or n==0:\n",
    "        return 1\n",
    "    return n * fact_rec(n-1)\n",
    "       \n",
    "print(fact_rec(0))"
   ]
  },
  {
   "cell_type": "code",
   "execution_count": 26,
   "id": "5a3e66d3",
   "metadata": {},
   "outputs": [
    {
     "name": "stdout",
     "output_type": "stream",
     "text": [
      "Maximum value 365\n"
     ]
    }
   ],
   "source": [
    "#ch8 pr1\n",
    "def maximum(n1,n2,n3):\n",
    "    if (n1>n2):\n",
    "        if(n1>n3):\n",
    "            return n1\n",
    "        else:\n",
    "            return n3\n",
    "    else:\n",
    "        if (n2>n3):\n",
    "            return n2\n",
    "        else:\n",
    "            return n3\n",
    "        \n",
    "m=maximum(145,254,365)\n",
    "print(\"Maximum value \" + str(m))\n",
    "    \n",
    "    "
   ]
  },
  {
   "cell_type": "code",
   "execution_count": 28,
   "id": "6d4190e2",
   "metadata": {},
   "outputs": [
    {
     "name": "stdout",
     "output_type": "stream",
     "text": [
      "Fahreheit temp is 32.0\n"
     ]
    }
   ],
   "source": [
    "def farh(cel):\n",
    "    return (cel * (9/5)) + 32\n",
    "c = 0\n",
    "f=farh(c)\n",
    "print(\"Fahreheit temp is \" + str(f))"
   ]
  },
  {
   "cell_type": "code",
   "execution_count": 30,
   "id": "0f683022",
   "metadata": {},
   "outputs": [
    {
     "name": "stdout",
     "output_type": "stream",
     "text": [
      "Hello How are You "
     ]
    }
   ],
   "source": [
    "print(\"Hello \",end=\"\")\n",
    "print(\"How \",end=\"\")\n",
    "print(\"are \",end=\"\")\n",
    "print(\"You? \",end=\"\")"
   ]
  },
  {
   "cell_type": "code",
   "execution_count": 25,
   "id": "11d7da26",
   "metadata": {},
   "outputs": [
    {
     "name": "stdout",
     "output_type": "stream",
     "text": [
      "convert length inches to cm 5.08\n"
     ]
    }
   ],
   "source": [
    "#convert inches to cm\n",
    "def centi(l):\n",
    "    return l*2.54\n",
    "\n",
    "len=2\n",
    "c1= centi(len)\n",
    "print(\"convert length inches to cm \" +  str(c1))"
   ]
  },
  {
   "cell_type": "markdown",
   "id": "963243b5",
   "metadata": {},
   "source": []
  }
 ],
 "metadata": {
  "kernelspec": {
   "display_name": "Python 3 (ipykernel)",
   "language": "python",
   "name": "python3"
  },
  "language_info": {
   "codemirror_mode": {
    "name": "ipython",
    "version": 3
   },
   "file_extension": ".py",
   "mimetype": "text/x-python",
   "name": "python",
   "nbconvert_exporter": "python",
   "pygments_lexer": "ipython3",
   "version": "3.9.12"
  }
 },
 "nbformat": 4,
 "nbformat_minor": 5
}
