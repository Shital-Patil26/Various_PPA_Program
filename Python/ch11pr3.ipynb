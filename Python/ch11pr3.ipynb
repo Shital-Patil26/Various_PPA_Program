{
 "cells": [
  {
   "cell_type": "code",
   "execution_count": 9,
   "id": "5af51de1",
   "metadata": {},
   "outputs": [
    {
     "name": "stdout",
     "output_type": "stream",
     "text": [
      "1500.0\n",
      "1.5\n",
      "2.0\n"
     ]
    }
   ],
   "source": [
    "class Employee:\n",
    "    salary = 1000\n",
    "    increment = 1.5\n",
    "    \n",
    "    @property\n",
    "    def salaryAfterIncrement(self):\n",
    "        return self.salary * self.increment\n",
    "    \n",
    "    @salaryAfterIncrement.setter\n",
    "    def salaryAfterIncrement(self , sai):\n",
    "        self.increment = sai/self.salary\n",
    "        \n",
    "e= Employee()\n",
    "print(e.salaryAfterIncrement)\n",
    "print(e.increment)\n",
    "e.salaryAfterIncrement = 2000\n",
    "print(e.increment)\n",
    "         "
   ]
  },
  {
   "cell_type": "code",
   "execution_count": null,
   "id": "bb474843",
   "metadata": {},
   "outputs": [],
   "source": []
  }
 ],
 "metadata": {
  "kernelspec": {
   "display_name": "Python 3 (ipykernel)",
   "language": "python",
   "name": "python3"
  },
  "language_info": {
   "codemirror_mode": {
    "name": "ipython",
    "version": 3
   },
   "file_extension": ".py",
   "mimetype": "text/x-python",
   "name": "python",
   "nbconvert_exporter": "python",
   "pygments_lexer": "ipython3",
   "version": "3.9.12"
  }
 },
 "nbformat": 4,
 "nbformat_minor": 5
}
