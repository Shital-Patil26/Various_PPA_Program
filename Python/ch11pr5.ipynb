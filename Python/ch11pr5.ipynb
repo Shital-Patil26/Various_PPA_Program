{
 "cells": [
  {
   "cell_type": "code",
   "execution_count": 19,
   "id": "41a7095e",
   "metadata": {},
   "outputs": [
    {
     "name": "stdout",
     "output_type": "stream",
     "text": [
      " 3a0 + 10a1 + 15a2 \n",
      "80\n"
     ]
    }
   ],
   "source": [
    "class Vector:\n",
    "    def __init__(self, vec):\n",
    "        self.vec = vec\n",
    "        \n",
    "    def __str__(self):\n",
    "        str1 = \"\"\n",
    "        index = 0\n",
    "        for i in self.vec:\n",
    "            str1 += f\" {i}a{index} +\"\n",
    "            index +=1\n",
    "        return str1[:-1]\n",
    "     \n",
    "    def __add__(self, vec2):\n",
    "        newList = []\n",
    "        for i in range(len(self.vec)):\n",
    "            newList.append(self.vec[i] + vec2.vec[i])\n",
    "        return Vector(newList)\n",
    "\n",
    "    def __mul__(self, vec2):\n",
    "        sum = 0\n",
    "        for i in range(len(self.vec)):\n",
    "            sum += self.vec[i] * vec2.vec[i]\n",
    "        return sum\n",
    "    \n",
    "v1 = Vector([2,4,6])\n",
    "v2 = Vector([1,6,9])\n",
    "print(v1+v2)\n",
    "print(v1*v2)"
   ]
  },
  {
   "cell_type": "code",
   "execution_count": null,
   "id": "6cf8138f",
   "metadata": {},
   "outputs": [],
   "source": []
  },
  {
   "cell_type": "code",
   "execution_count": null,
   "id": "b036d1f4",
   "metadata": {},
   "outputs": [],
   "source": []
  }
 ],
 "metadata": {
  "kernelspec": {
   "display_name": "Python 3 (ipykernel)",
   "language": "python",
   "name": "python3"
  },
  "language_info": {
   "codemirror_mode": {
    "name": "ipython",
    "version": 3
   },
   "file_extension": ".py",
   "mimetype": "text/x-python",
   "name": "python",
   "nbconvert_exporter": "python",
   "pygments_lexer": "ipython3",
   "version": "3.9.12"
  }
 },
 "nbformat": 4,
 "nbformat_minor": 5
}
