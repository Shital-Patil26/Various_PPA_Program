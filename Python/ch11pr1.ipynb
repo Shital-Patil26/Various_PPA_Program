{
 "cells": [
  {
   "cell_type": "code",
   "execution_count": 6,
   "id": "e43b00e5",
   "metadata": {},
   "outputs": [
    {
     "name": "stdout",
     "output_type": "stream",
     "text": [
      "1i + 3j\n",
      "1i + 9j + 7k\n"
     ]
    }
   ],
   "source": [
    "class C2dvec:\n",
    "    def __init__(self,i,j):\n",
    "        self.icap = i\n",
    "        self.jcap = j\n",
    "    def __str__(self):\n",
    "        return f\"{self.icap}i + {self.jcap}j\"\n",
    "class C3dvec(C2dvec):\n",
    "        def __init__(self,i,j,k):\n",
    "            super().__init__(i,j)\n",
    "            self.kcap = k\n",
    "        def __str__(self):\n",
    "            return f\"{self.icap}i + {self.jcap}j + {self.kcap}k\"\n",
    "\n",
    "v2d = C2dvec(1,3)\n",
    "v3d = C3dvec(1,9,7)  \n",
    "print(v2d)\n",
    "print(v3d)\n",
    "    "
   ]
  },
  {
   "cell_type": "code",
   "execution_count": null,
   "id": "5c4367a5",
   "metadata": {},
   "outputs": [],
   "source": []
  }
 ],
 "metadata": {
  "kernelspec": {
   "display_name": "Python 3 (ipykernel)",
   "language": "python",
   "name": "python3"
  },
  "language_info": {
   "codemirror_mode": {
    "name": "ipython",
    "version": 3
   },
   "file_extension": ".py",
   "mimetype": "text/x-python",
   "name": "python",
   "nbconvert_exporter": "python",
   "pygments_lexer": "ipython3",
   "version": "3.9.12"
  }
 },
 "nbformat": 4,
 "nbformat_minor": 5
}
