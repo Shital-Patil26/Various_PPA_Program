{
 "cells": [
  {
   "cell_type": "code",
   "execution_count": 5,
   "id": "25f31504",
   "metadata": {},
   "outputs": [],
   "source": [
    "with open('ano.txt','r') as f:\n",
    "    a = f.read()\n",
    "with open('ano.txt','w') as f:\n",
    "    a = f.write(\"write\")"
   ]
  },
  {
   "cell_type": "code",
   "execution_count": null,
   "id": "ab541d0c",
   "metadata": {},
   "outputs": [],
   "source": []
  }
 ],
 "metadata": {
  "kernelspec": {
   "display_name": "Python 3 (ipykernel)",
   "language": "python",
   "name": "python3"
  },
  "language_info": {
   "codemirror_mode": {
    "name": "ipython",
    "version": 3
   },
   "file_extension": ".py",
   "mimetype": "text/x-python",
   "name": "python",
   "nbconvert_exporter": "python",
   "pygments_lexer": "ipython3",
   "version": "3.9.12"
  }
 },
 "nbformat": 4,
 "nbformat_minor": 5
}
