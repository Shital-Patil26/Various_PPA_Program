{
 "cells": [
  {
   "cell_type": "code",
   "execution_count": 14,
   "id": "6e1aee9e",
   "metadata": {},
   "outputs": [
    {
     "name": "stdout",
     "output_type": "stream",
     "text": [
      "Employee is created! \n",
      "Salaryfor this employee working in Google is 100000\n",
      "Thanks!\n",
      "Good Morning,Sir \n",
      "The time is 5AM in the morning \n"
     ]
    }
   ],
   "source": [
    "class Employee:\n",
    "    company = \"Google\"\n",
    "    \n",
    "    def __init__(self):\n",
    "        print(\"Employee is created! \")\n",
    "    \n",
    "    def getSal(self,sign):\n",
    "        print(f\"Salary for this employee working in {self.company} is {self.salary}\\n{sign}\")\n",
    "\n",
    "    @staticmethod\n",
    "    def greet():\n",
    "        print(\"Good Morning,Sir \")\n",
    "    @staticmethod\n",
    "    def time():\n",
    "        print(\"The time is 5AM in the morning \")\n",
    "        \n",
    "    \n",
    "harry = Employee()\n",
    "harry.salary = 100000\n",
    "harry.getSal(\"Thanks!\")\n",
    "harry.greet()\n",
    "harry.time()\n",
    "\n",
    "\n",
    "    "
   ]
  },
  {
   "cell_type": "code",
   "execution_count": null,
   "id": "877fdf1e",
   "metadata": {},
   "outputs": [],
   "source": []
  }
 ],
 "metadata": {
  "kernelspec": {
   "display_name": "Python 3 (ipykernel)",
   "language": "python",
   "name": "python3"
  },
  "language_info": {
   "codemirror_mode": {
    "name": "ipython",
    "version": 3
   },
   "file_extension": ".py",
   "mimetype": "text/x-python",
   "name": "python",
   "nbconvert_exporter": "python",
   "pygments_lexer": "ipython3",
   "version": "3.9.12"
  }
 },
 "nbformat": 4,
 "nbformat_minor": 5
}
