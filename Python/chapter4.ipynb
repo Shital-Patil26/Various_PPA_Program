{
 "cells": [
  {
   "cell_type": "code",
   "execution_count": 1,
   "id": "bb62371f",
   "metadata": {},
   "outputs": [
    {
     "name": "stdout",
     "output_type": "stream",
     "text": [
      "Enter NameShital\n",
      "Good Afternoon, Shital\n"
     ]
    }
   ],
   "source": [
    "name=input(\"Enter Name \")\n",
    "print(\"Good Afternoon, \" + name)"
   ]
  },
  {
   "cell_type": "code",
   "execution_count": 5,
   "id": "1fdda85d",
   "metadata": {},
   "outputs": [
    {
     "name": "stdout",
     "output_type": "stream",
     "text": [
      " Enter Fruit Name 1 : aa\n",
      " Enter Fruit Name 2 : aaa\n",
      " Enter Fruit Name 3 : sss\n",
      " Enter Fruit Name 4 : ddd\n",
      " Enter Fruit Name 5 : www\n",
      " Enter Fruit Name 6 : wee\n",
      " Enter Fruit Name 7 : 2ww\n"
     ]
    },
    {
     "ename": "NameError",
     "evalue": "name 'mfl' is not defined",
     "output_type": "error",
     "traceback": [
      "\u001b[1;31m---------------------------------------------------------------------------\u001b[0m",
      "\u001b[1;31mNameError\u001b[0m                                 Traceback (most recent call last)",
      "Input \u001b[1;32mIn [5]\u001b[0m, in \u001b[0;36m<cell line: 9>\u001b[1;34m()\u001b[0m\n\u001b[0;32m      7\u001b[0m f7\u001b[38;5;241m=\u001b[39m\u001b[38;5;28minput\u001b[39m(\u001b[38;5;124m\"\u001b[39m\u001b[38;5;124m Enter Fruit Name 7 : \u001b[39m\u001b[38;5;124m\"\u001b[39m)\n\u001b[0;32m      8\u001b[0m myfruitlist\u001b[38;5;241m=\u001b[39m[f1,f2,f3,f4,f5,f6,f7]\n\u001b[1;32m----> 9\u001b[0m \u001b[38;5;28mprint\u001b[39m(\u001b[43mmfl\u001b[49m)\n",
      "\u001b[1;31mNameError\u001b[0m: name 'mfl' is not defined"
     ]
    }
   ],
   "source": [
    "f1=input(\" Enter Fruit Name 1 : \")\n",
    "f2=input(\" Enter Fruit Name 2 : \")\n",
    "f3=input(\" Enter Fruit Name 3 : \")\n",
    "f4=input(\" Enter Fruit Name 4 : \")\n",
    "f5=input(\" Enter Fruit Name 5 : \")\n",
    "f6=input(\" Enter Fruit Name 6 : \")\n",
    "f7=input(\" Enter Fruit Name 7 : \")\n",
    "myfruitlist=[f1,f2,f3,f4,f5,f6,f7]\n",
    "print(myfruitlist)\n",
    "\n",
    "\n"
   ]
  },
  {
   "cell_type": "code",
   "execution_count": 7,
   "id": "eb7c9bb4",
   "metadata": {},
   "outputs": [
    {
     "name": "stdout",
     "output_type": "stream",
     "text": [
      " Enter Marks for student 1 : 11\n",
      " Enter Marks for student 2 : 5\n",
      " Enter Marks for student 3 : 5\n",
      " Enter Marks for student 4 : 7\n",
      " Enter Marks for student 5 : 8\n",
      " Enter Marks for student 6 : 9\n",
      "[5, 5, 7, 8, 9, 11]\n"
     ]
    }
   ],
   "source": [
    "m1=int(input(\" Enter Marks for student 1 : \"))\n",
    "m2=int(input(\" Enter Marks for student 2 : \"))\n",
    "m3=int(input(\" Enter Marks for student 3 : \"))\n",
    "m4=int(input(\" Enter Marks for student 4 : \"))\n",
    "m5=int(input(\" Enter Marks for student 5 : \"))\n",
    "m6=int(input(\" Enter Marks for student 6 : \"))\n",
    "l1=[m1, m2, m3, m4, m5, m6]\n",
    "l1.sort()\n",
    "print(l1)\n",
    "\n"
   ]
  },
  {
   "cell_type": "code",
   "execution_count": 8,
   "id": "ec7f2373",
   "metadata": {},
   "outputs": [
    {
     "ename": "TypeError",
     "evalue": "'tuple' object does not support item assignment",
     "output_type": "error",
     "traceback": [
      "\u001b[1;31m---------------------------------------------------------------------------\u001b[0m",
      "\u001b[1;31mTypeError\u001b[0m                                 Traceback (most recent call last)",
      "Input \u001b[1;32mIn [8]\u001b[0m, in \u001b[0;36m<cell line: 2>\u001b[1;34m()\u001b[0m\n\u001b[0;32m      1\u001b[0m a\u001b[38;5;241m=\u001b[39m(\u001b[38;5;241m91\u001b[39m,\u001b[38;5;241m4\u001b[39m,\u001b[38;5;241m2\u001b[39m,\u001b[38;5;241m5\u001b[39m,\u001b[38;5;241m6\u001b[39m,\u001b[38;5;241m9\u001b[39m)\n\u001b[1;32m----> 2\u001b[0m a[\u001b[38;5;241m0\u001b[39m]\u001b[38;5;241m=\u001b[39m\u001b[38;5;241m45\u001b[39m\n",
      "\u001b[1;31mTypeError\u001b[0m: 'tuple' object does not support item assignment"
     ]
    }
   ],
   "source": [
    "a=(91,4,2,5,6,9)\n",
    "a[0]=45\n"
   ]
  },
  {
   "cell_type": "code",
   "execution_count": 11,
   "id": "f5d0ab6d",
   "metadata": {},
   "outputs": [
    {
     "name": "stdout",
     "output_type": "stream",
     "text": [
      "54\n",
      "54\n"
     ]
    }
   ],
   "source": [
    "a=[2,41,5,6]\n",
    "print(a[0]+a[1]+a[2]+a[3])\n",
    "print(sum(a))"
   ]
  },
  {
   "cell_type": "code",
   "execution_count": 13,
   "id": "0dcff732",
   "metadata": {},
   "outputs": [
    {
     "name": "stdout",
     "output_type": "stream",
     "text": [
      "2\n"
     ]
    }
   ],
   "source": [
    "a=(7,0,8,0,0,9,9)\n",
    "print(a.count(9))"
   ]
  },
  {
   "cell_type": "code",
   "execution_count": 22,
   "id": "d64658db",
   "metadata": {},
   "outputs": [
    {
     "name": "stdout",
     "output_type": "stream",
     "text": [
      "Options are  dict_keys(['Pankha', 'Dabba', 'Ladki', 'Ladka'])\n",
      "Enter the hindi world \n",
      "Pghhg\n"
     ]
    },
    {
     "ename": "KeyError",
     "evalue": "'Pghhg'",
     "output_type": "error",
     "traceback": [
      "\u001b[1;31m---------------------------------------------------------------------------\u001b[0m",
      "\u001b[1;31mKeyError\u001b[0m                                  Traceback (most recent call last)",
      "Input \u001b[1;32mIn [22]\u001b[0m, in \u001b[0;36m<cell line: 9>\u001b[1;34m()\u001b[0m\n\u001b[0;32m      7\u001b[0m \u001b[38;5;28mprint\u001b[39m(\u001b[38;5;124m\"\u001b[39m\u001b[38;5;124mOptions are \u001b[39m\u001b[38;5;124m\"\u001b[39m,myDict\u001b[38;5;241m.\u001b[39mkeys())\n\u001b[0;32m      8\u001b[0m a\u001b[38;5;241m=\u001b[39m\u001b[38;5;28minput\u001b[39m(\u001b[38;5;124m\"\u001b[39m\u001b[38;5;124mEnter the hindi world \u001b[39m\u001b[38;5;130;01m\\n\u001b[39;00m\u001b[38;5;124m\"\u001b[39m)\n\u001b[1;32m----> 9\u001b[0m \u001b[38;5;28mprint\u001b[39m(\u001b[38;5;124m\"\u001b[39m\u001b[38;5;124mThe meaning of your world is :\u001b[39m\u001b[38;5;130;01m\\n\u001b[39;00m\u001b[38;5;124m \u001b[39m\u001b[38;5;124m\"\u001b[39m, \u001b[43mmyDict\u001b[49m\u001b[43m[\u001b[49m\u001b[43ma\u001b[49m\u001b[43m]\u001b[49m)\n",
      "\u001b[1;31mKeyError\u001b[0m: 'Pghhg'"
     ]
    }
   ],
   "source": [
    "myDict={\n",
    "    \"Pankha\": \"Fan\",\n",
    "    \"Dabba\" : \"Tifin\",\n",
    "    \"Ladki\" : \"Girl\" ,\n",
    "    \"Ladka\" :\"Boy\"\n",
    "}\n",
    "print(\"Options are \",myDict.keys())\n",
    "a=input(\"Enter the hindi world \\n\")\n",
    "print(\"The meaning of your world is :\\n \", myDict[a])"
   ]
  },
  {
   "cell_type": "code",
   "execution_count": null,
   "id": "4d0b5fba",
   "metadata": {},
   "outputs": [],
   "source": []
  },
  {
   "cell_type": "code",
   "execution_count": null,
   "id": "9844e2fa",
   "metadata": {},
   "outputs": [],
   "source": []
  }
 ],
 "metadata": {
  "kernelspec": {
   "display_name": "Python 3 (ipykernel)",
   "language": "python",
   "name": "python3"
  },
  "language_info": {
   "codemirror_mode": {
    "name": "ipython",
    "version": 3
   },
   "file_extension": ".py",
   "mimetype": "text/x-python",
   "name": "python",
   "nbconvert_exporter": "python",
   "pygments_lexer": "ipython3",
   "version": "3.9.12"
  }
 },
 "nbformat": 4,
 "nbformat_minor": 5
}
