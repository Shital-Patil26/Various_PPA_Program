{
 "cells": [
  {
   "cell_type": "code",
   "execution_count": 2,
   "id": "84d829b5",
   "metadata": {},
   "outputs": [
    {
     "name": "stdout",
     "output_type": "stream",
     "text": [
      "Geet\n",
      "Gitisha\n"
     ]
    }
   ],
   "source": [
    "class Sample:\n",
    "    a = \"Shital\"\n",
    "    \n",
    "obj = Sample()\n",
    "obj.a = \"Gitisha\"\n",
    "Sample.a=\"Geet\"\n",
    "print(Sample.a)\n",
    "print(obj.a) #No it doesnot change class attribute \n",
    "    "
   ]
  },
  {
   "cell_type": "code",
   "execution_count": null,
   "id": "8771e197",
   "metadata": {},
   "outputs": [],
   "source": []
  }
 ],
 "metadata": {
  "kernelspec": {
   "display_name": "Python 3 (ipykernel)",
   "language": "python",
   "name": "python3"
  },
  "language_info": {
   "codemirror_mode": {
    "name": "ipython",
    "version": 3
   },
   "file_extension": ".py",
   "mimetype": "text/x-python",
   "name": "python",
   "nbconvert_exporter": "python",
   "pygments_lexer": "ipython3",
   "version": "3.9.12"
  }
 },
 "nbformat": 4,
 "nbformat_minor": 5
}
