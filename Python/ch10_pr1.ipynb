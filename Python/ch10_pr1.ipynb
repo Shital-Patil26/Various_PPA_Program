{
 "cells": [
  {
   "cell_type": "code",
   "execution_count": 8,
   "id": "b757a162",
   "metadata": {},
   "outputs": [
    {
     "name": "stdout",
     "output_type": "stream",
     "text": [
      "The name of programmer is Shital and the product is Skype\n",
      "The name of programmer is Gitisha and the product is GitHub\n"
     ]
    }
   ],
   "source": [
    "class Programmer:\n",
    "    company =\"Microsoft\"\n",
    "    \n",
    "    def __init__(self, name,product):\n",
    "        self.name = name\n",
    "        self.product = product\n",
    "        \n",
    "    def getInfo(self):\n",
    "        print(f\"The name of programmer is {self.name} and the product is {self.product}\")\n",
    "    \n",
    "sang = Programmer(\"Shital\" ,\"Skype\")\n",
    "geet = Programmer(\"Gitisha\" ,\"GitHub\")\n",
    "\n",
    "sang.getInfo()\n",
    "geet.getInfo()\n",
    "              \n",
    "    "
   ]
  },
  {
   "cell_type": "code",
   "execution_count": null,
   "id": "19377bce",
   "metadata": {},
   "outputs": [],
   "source": []
  }
 ],
 "metadata": {
  "kernelspec": {
   "display_name": "Python 3 (ipykernel)",
   "language": "python",
   "name": "python3"
  },
  "language_info": {
   "codemirror_mode": {
    "name": "ipython",
    "version": 3
   },
   "file_extension": ".py",
   "mimetype": "text/x-python",
   "name": "python",
   "nbconvert_exporter": "python",
   "pygments_lexer": "ipython3",
   "version": "3.9.12"
  }
 },
 "nbformat": 4,
 "nbformat_minor": 5
}
