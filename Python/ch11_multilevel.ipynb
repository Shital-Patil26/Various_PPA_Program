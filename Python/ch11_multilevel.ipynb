{
 "cells": [
  {
   "cell_type": "code",
   "execution_count": 18,
   "id": "da10bd19",
   "metadata": {},
   "outputs": [
    {
     "name": "stdout",
     "output_type": "stream",
     "text": [
      "I am breathing.....\n",
      "I am an Employee,so I am luckyly breath...\n",
      "Honda\n",
      "I am an Programmer,so I am breathing++ ...\n",
      "Fiverr\n",
      "India\n"
     ]
    }
   ],
   "source": [
    "class Person:\n",
    "    country = \"India\"\n",
    "    \n",
    "    def takeBreath(self):\n",
    "        print(\"I am breathing.....\")\n",
    "        \n",
    "class Employee(Person):\n",
    "    company = \"Honda\"\n",
    "    \n",
    "    def getSal(self):\n",
    "        print(f\"Salary is {self.salary}\")\n",
    "        \n",
    "    def takeBreath(self):\n",
    "        print(\"I am an Employee,so I am luckyly breath...\")\n",
    "        \n",
    "class Programmer(Employee):\n",
    "    company = \"Fiverr\"\n",
    "    \n",
    "    def getSal(self):\n",
    "        print(\"No salary to programmer \")\n",
    "        \n",
    "    def takeBreath(self):\n",
    "        print(\"I am an Programmer,so I am breathing++ ...\")\n",
    "        \n",
    "p = Person()\n",
    "p.takeBreath()\n",
    "#print(p.company) Throws an error\n",
    "e = Employee()\n",
    "e.takeBreath()\n",
    "print(e.company)\n",
    "pr = Programmer()\n",
    "pr.takeBreath()\n",
    "print(pr.company)\n",
    "print(pr.country)\n",
    "\n",
    "\n",
    "        \n",
    "        \n",
    "    "
   ]
  },
  {
   "cell_type": "markdown",
   "id": "d8b84f3d",
   "metadata": {},
   "source": []
  }
 ],
 "metadata": {
  "kernelspec": {
   "display_name": "Python 3 (ipykernel)",
   "language": "python",
   "name": "python3"
  },
  "language_info": {
   "codemirror_mode": {
    "name": "ipython",
    "version": 3
   },
   "file_extension": ".py",
   "mimetype": "text/x-python",
   "name": "python",
   "nbconvert_exporter": "python",
   "pygments_lexer": "ipython3",
   "version": "3.9.12"
  }
 },
 "nbformat": 4,
 "nbformat_minor": 5
}
