{
 "cells": [
  {
   "cell_type": "code",
   "execution_count": 5,
   "id": "6f2ad13d",
   "metadata": {},
   "outputs": [
    {
     "name": "stdout",
     "output_type": "stream",
     "text": [
      "Employee is created! \n",
      "The name of Employee is Shital\n",
      "The salary of Employee is 10000\n",
      "The subunit of Employee is Youtube\n"
     ]
    }
   ],
   "source": [
    "class Employee:\n",
    "    company = \"Google\"\n",
    "    \n",
    "    def __init__(self,name,sal,subunit):\n",
    "        self.name=name\n",
    "        self.sal=sal\n",
    "        self.subunit=subunit\n",
    "        print(\"Employee is created! \")\n",
    "        \n",
    "    def getdetails(self):\n",
    "        print(f\"The name of Employee is {self.name}\")\n",
    "        print(f\"The salary of Employee is {self.sal}\")\n",
    "        print(f\"The subunit of Employee is {self.subunit}\")\n",
    "    \n",
    "    def getSal(self,sign):\n",
    "        print(f\"Salary for this employee working in {self.company} is {self.salary}\\n{sign}\")\n",
    "\n",
    "    @staticmethod\n",
    "    def greet():\n",
    "        print(\"Good Morning,Sir \")\n",
    "    @staticmethod\n",
    "    def time():\n",
    "        print(\"The time is 5AM in the morning \")\n",
    "        \n",
    "    \n",
    "harry = Employee(\"Shital\",10000,\"Youtube\")\n",
    "harry.getdetails()\n",
    "    "
   ]
  },
  {
   "cell_type": "code",
   "execution_count": null,
   "id": "af2e39a0",
   "metadata": {},
   "outputs": [],
   "source": []
  }
 ],
 "metadata": {
  "kernelspec": {
   "display_name": "Python 3 (ipykernel)",
   "language": "python",
   "name": "python3"
  },
  "language_info": {
   "codemirror_mode": {
    "name": "ipython",
    "version": 3
   },
   "file_extension": ".py",
   "mimetype": "text/x-python",
   "name": "python",
   "nbconvert_exporter": "python",
   "pygments_lexer": "ipython3",
   "version": "3.9.12"
  }
 },
 "nbformat": 4,
 "nbformat_minor": 5
}
