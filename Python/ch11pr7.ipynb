{
 "cells": [
  {
   "cell_type": "code",
   "execution_count": 12,
   "id": "08a61582",
   "metadata": {},
   "outputs": [
    {
     "name": "stdout",
     "output_type": "stream",
     "text": [
      "Addition   3a0 + 10a1 + 9a2 \n",
      "Multiplication  44\n",
      "3\n",
      "3\n"
     ]
    }
   ],
   "source": [
    "class Vector:\n",
    "    def __init__(self, vec):\n",
    "        self.vec = vec\n",
    "        \n",
    "    def __str__(self):\n",
    "        str1 = \"\"\n",
    "        index = 0\n",
    "        for i in self.vec:\n",
    "            str1 += f\" {i}a{index} +\"\n",
    "            index +=1\n",
    "        return str1[:-1]\n",
    "     \n",
    "    def __add__(self, vec2):\n",
    "        newList = []\n",
    "        if(len(self.vec)!=len(vec2)):\n",
    "             print(\"Dimension not same\")\n",
    "        for i in range(len(self.vec)):\n",
    "            newList.append(self.vec[i] + vec2.vec[i])\n",
    "        return Vector(newList)\n",
    "\n",
    "    def __mul__(self, vec2):\n",
    "        sum = 0\n",
    "        for i in range(len(self.vec)):\n",
    "            sum += self.vec[i] * vec2.vec[i]\n",
    "        return sum\n",
    "    \n",
    "    def __len__(self):\n",
    "        return len(self.vec)\n",
    "        \n",
    "v1 = Vector([2,4,6])\n",
    "v2 = Vector([1,6,3])\n",
    "print(\"Addition \", v1+v2)\n",
    "print(\"Multiplication \", v1*v2)\n",
    "print(len(v1))\n",
    "print(len(v2))\n"
   ]
  },
  {
   "cell_type": "code",
   "execution_count": null,
   "id": "09e7c090",
   "metadata": {},
   "outputs": [],
   "source": [
    "(len(v2))"
   ]
  }
 ],
 "metadata": {
  "kernelspec": {
   "display_name": "Python 3 (ipykernel)",
   "language": "python",
   "name": "python3"
  },
  "language_info": {
   "codemirror_mode": {
    "name": "ipython",
    "version": 3
   },
   "file_extension": ".py",
   "mimetype": "text/x-python",
   "name": "python",
   "nbconvert_exporter": "python",
   "pygments_lexer": "ipython3",
   "version": "3.9.12"
  }
 },
 "nbformat": 4,
 "nbformat_minor": 5
}
